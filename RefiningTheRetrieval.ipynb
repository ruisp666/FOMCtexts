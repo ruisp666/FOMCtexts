{
 "cells": [
  {
   "cell_type": "markdown",
   "source": [
    "## Refining Retrieval for QA\n",
    "Let's reproduce an example from the previous [notebook](QAoverFedMinutesHistory.ipynb)"
   ],
   "metadata": {
    "collapsed": false
   }
  },
  {
   "cell_type": "code",
   "execution_count": 8,
   "outputs": [
    {
     "name": "stderr",
     "output_type": "stream",
     "text": [
      "INFO:sentence_transformers.SentenceTransformer:Load pretrained SentenceTransformer: sentence-transformers/all-mpnet-base-v2\n"
     ]
    },
    {
     "data": {
      "text/plain": "Batches:   0%|          | 0/1 [00:00<?, ?it/s]",
      "application/vnd.jupyter.widget-view+json": {
       "version_major": 2,
       "version_minor": 0,
       "model_id": "7573c486065846b789c10655d0a86201"
      }
     },
     "metadata": {},
     "output_type": "display_data"
    }
   ],
   "source": [
    "from langchain.vectorstores import FAISS\n",
    "from langchain.embeddings import HuggingFaceEmbeddings\n",
    "model_name = 'sentence-transformers/all-mpnet-base-v2'\n",
    "model_kwargs = {'device':'mps'}\n",
    "encode_kwargs = {'normalize_embeddings': False}\n",
    "embeddings = HuggingFaceEmbeddings(model_name=model_name, model_kwargs=model_kwargs, encode_kwargs=encode_kwargs)\n",
    "vector_s = FAISS.load_local(\"MINUTES_FOMC_HISTORY\", embeddings)\n",
    "\n",
    "query = \"What was the staff economic outlook during the FOMC meeting of November 2022? Please include some of the political developments discussed in the meeting and why they were important to the economic outlook. Also include some statistical indicators supporting the views when possible.\"\n",
    "docs_ans = vector_s.similarity_search(query, k=7)"
   ],
   "metadata": {
    "collapsed": false,
    "ExecuteTime": {
     "start_time": "2023-06-28T12:28:04.346983Z",
     "end_time": "2023-06-28T12:28:05.358300Z"
    }
   }
  },
  {
   "cell_type": "markdown",
   "source": [
    "Let's see the metadata from the retrieved documents."
   ],
   "metadata": {
    "collapsed": false
   }
  },
  {
   "cell_type": "code",
   "execution_count": 9,
   "outputs": [
    {
     "name": "stdout",
     "output_type": "stream",
     "text": [
      "{'source': 'Minutes/fomcminutes20211215.pdf', 'page': 7, 'year': 2021, 'month': 12, 'day': 15}\n",
      "{'source': 'Minutes/fomcminutes20220921.pdf', 'page': 6, 'year': 2022, 'month': 9, 'day': 21}\n",
      "{'source': 'Minutes/fomcminutes20151216.pdf', 'page': 4, 'year': 2015, 'month': 12, 'day': 16}\n",
      "{'source': 'Minutes/fomcminutes20140618.pdf', 'page': 6, 'year': 2014, 'month': 6, 'day': 18}\n",
      "{'source': 'Minutes/fomcminutes20110126.pdf', 'page': 11, 'year': 2011, 'month': 1, 'day': 26}\n",
      "{'source': 'Minutes/fomcminutes20121212.pdf', 'page': 5, 'year': 2012, 'month': 12, 'day': 12}\n",
      "{'source': 'Minutes/fomcminutes20130918.pdf', 'page': 4, 'year': 2013, 'month': 9, 'day': 18}\n"
     ]
    }
   ],
   "source": [
    "for doc in docs_ans:\n",
    "    print(doc.metadata)"
   ],
   "metadata": {
    "collapsed": false,
    "ExecuteTime": {
     "start_time": "2023-06-28T12:28:11.089186Z",
     "end_time": "2023-06-28T12:28:11.092449Z"
    }
   }
  },
  {
   "cell_type": "markdown",
   "source": [
    "As we can see no document retrieved refers to November 2022, when in fact there was a meeting that took place in November 2022."
   ],
   "metadata": {
    "collapsed": false
   }
  },
  {
   "cell_type": "markdown",
   "source": [
    "###  Filter the documents with metadata filtering with recurring search expansion"
   ],
   "metadata": {
    "collapsed": false
   }
  },
  {
   "cell_type": "markdown",
   "source": [
    "Assume for a moment that we know the query relates to events that can be traced to the metadata of the documents, say the year and month. Then, we can search the vector store until we find a desired number of documents that match the filtering criteria. We know from the query we are interested in November 2022."
   ],
   "metadata": {
    "collapsed": false
   }
  },
  {
   "cell_type": "code",
   "execution_count": 10,
   "outputs": [
    {
     "data": {
      "text/plain": "Batches:   0%|          | 0/1 [00:00<?, ?it/s]",
      "application/vnd.jupyter.widget-view+json": {
       "version_major": 2,
       "version_minor": 0,
       "model_id": "d04b4ab16d89482eb9f0e4e353a35504"
      }
     },
     "metadata": {},
     "output_type": "display_data"
    },
    {
     "name": "stderr",
     "output_type": "stream",
     "text": [
      "INFO:filter methods:Context contains 1 documents\n",
      "INFO:filter methods:Expanding search with k=200\n"
     ]
    },
    {
     "data": {
      "text/plain": "Batches:   0%|          | 0/1 [00:00<?, ?it/s]",
      "application/vnd.jupyter.widget-view+json": {
       "version_major": 2,
       "version_minor": 0,
       "model_id": "77da975562d54f8e8c45b2c0ada55a47"
      }
     },
     "metadata": {},
     "output_type": "display_data"
    },
    {
     "name": "stderr",
     "output_type": "stream",
     "text": [
      "INFO:filter methods:Context contains 2 documents\n",
      "INFO:filter methods:Expanding search with k=500\n"
     ]
    },
    {
     "data": {
      "text/plain": "Batches:   0%|          | 0/1 [00:00<?, ?it/s]",
      "application/vnd.jupyter.widget-view+json": {
       "version_major": 2,
       "version_minor": 0,
       "model_id": "1483df8280a8414c92b5583974f2bcee"
      }
     },
     "metadata": {},
     "output_type": "display_data"
    },
    {
     "name": "stderr",
     "output_type": "stream",
     "text": [
      "INFO:filter methods:Context contains 3 documents\n",
      "INFO:filter methods:Expanding search with k=800\n"
     ]
    },
    {
     "data": {
      "text/plain": "Batches:   0%|          | 0/1 [00:00<?, ?it/s]",
      "application/vnd.jupyter.widget-view+json": {
       "version_major": 2,
       "version_minor": 0,
       "model_id": "e01025f690744537b94e2c2ce8c3b251"
      }
     },
     "metadata": {},
     "output_type": "display_data"
    },
    {
     "name": "stderr",
     "output_type": "stream",
     "text": [
      "INFO:filter methods:Context contains 3 documents\n",
      "INFO:filter methods:Expanding search with k=1100\n"
     ]
    },
    {
     "data": {
      "text/plain": "Batches:   0%|          | 0/1 [00:00<?, ?it/s]",
      "application/vnd.jupyter.widget-view+json": {
       "version_major": 2,
       "version_minor": 0,
       "model_id": "bf77feb8d7b040c2abf249ae858d8e81"
      }
     },
     "metadata": {},
     "output_type": "display_data"
    },
    {
     "name": "stderr",
     "output_type": "stream",
     "text": [
      "INFO:filter methods:Context contains 4 documents\n",
      "INFO:filter methods:Expanding search with k=1400\n"
     ]
    },
    {
     "data": {
      "text/plain": "Batches:   0%|          | 0/1 [00:00<?, ?it/s]",
      "application/vnd.jupyter.widget-view+json": {
       "version_major": 2,
       "version_minor": 0,
       "model_id": "f1883bd603b94f678f829843a05aed9c"
      }
     },
     "metadata": {},
     "output_type": "display_data"
    },
    {
     "name": "stderr",
     "output_type": "stream",
     "text": [
      "INFO:filter methods:Context contains 4 documents\n",
      "INFO:filter methods:Expanding search with k=1700\n"
     ]
    },
    {
     "data": {
      "text/plain": "Batches:   0%|          | 0/1 [00:00<?, ?it/s]",
      "application/vnd.jupyter.widget-view+json": {
       "version_major": 2,
       "version_minor": 0,
       "model_id": "d926475cafa840c7bbcdb9cb495aa76e"
      }
     },
     "metadata": {},
     "output_type": "display_data"
    },
    {
     "name": "stderr",
     "output_type": "stream",
     "text": [
      "INFO:filter methods:Done. Context contains 5 Documents matching the filtering criteria\n"
     ]
    }
   ],
   "source": [
    "from filterminutes import search_with_filter\n",
    "filtered_context = search_with_filter(vector_s, query, init_k=200, step=300, filter_dict={'year':2022,  'month': 11})"
   ],
   "metadata": {
    "collapsed": false,
    "ExecuteTime": {
     "start_time": "2023-06-28T12:28:29.674338Z",
     "end_time": "2023-06-28T12:28:29.913564Z"
    }
   }
  },
  {
   "cell_type": "markdown",
   "source": [
    "### Add Prompt and QA chain"
   ],
   "metadata": {
    "collapsed": false
   }
  },
  {
   "cell_type": "code",
   "execution_count": 5,
   "outputs": [],
   "source": [
    "from dotenv import load_dotenv, find_dotenv\n",
    "_ = load_dotenv(find_dotenv('.env.rtf'))"
   ],
   "metadata": {
    "collapsed": false,
    "ExecuteTime": {
     "start_time": "2023-06-28T12:26:10.941758Z",
     "end_time": "2023-06-28T12:26:10.953737Z"
    }
   }
  },
  {
   "cell_type": "code",
   "execution_count": 11,
   "outputs": [],
   "source": [
    "from langchain.chains.question_answering import load_qa_chain\n",
    "from langchain.chat_models import ChatOpenAI\n",
    "from langchain.prompts import PromptTemplate\n",
    "prompt_template = \"\"\"You are a research analyst at a federal reserve bank and you are trying to answer questions or provide colour on statements. Use the following pieces of context to answer the question at the end. Explain the rationale behind your answer.\n",
    "If you don't have all the elements to answer the query, say it explicitly.\n",
    "\n",
    "{context}\n",
    "\n",
    "Question: {question}\n",
    "\"\"\"\n",
    "PROMPT = PromptTemplate(\n",
    "    template=prompt_template, input_variables=[\"context\", \"question\"]\n",
    ")\n",
    "fed_chain = load_qa_chain(llm=ChatOpenAI(model_name='gpt-3.5-turbo'), chain_type='stuff', prompt=PROMPT)"
   ],
   "metadata": {
    "collapsed": false,
    "ExecuteTime": {
     "start_time": "2023-06-28T12:28:44.209194Z",
     "end_time": "2023-06-28T12:28:44.214547Z"
    }
   }
  },
  {
   "cell_type": "markdown",
   "source": [
    "We can now feed the results of the filtered context to the chain."
   ],
   "metadata": {
    "collapsed": false
   }
  },
  {
   "cell_type": "code",
   "execution_count": 12,
   "outputs": [
    {
     "name": "stdout",
     "output_type": "stream",
     "text": [
      "During the FOMC meeting of November 2022, the staff economic outlook was that U.S. real gross domestic product (GDP) had increased at a moderate pace in the third quarter after declining over the first half of the year. The staff projected that inflation would decline over the next two years, with both total and core PCE price inflation expected to be 2 percent in 2025. However, the staff continued to view the risks to the inflation projection as skewed to the upside, as inflation remained stubbornly high. \n",
      "\n",
      "The staff also noted that political developments, specifically Russia's war against Ukraine, were causing tremendous human and economic hardship. These events were creating additional upward pressure on inflation and weighing on global economic activity. The war and its related events were important to the economic outlook as they were contributing to the supply and demand imbalances that were impacting inflation. \n",
      "\n",
      "Some statistical indicators supporting the staff's views included the elevated inflation levels, which reflected supply and demand imbalances related to the pandemic, higher food and energy prices, and broader price pressures. Additionally, the staff mentioned that the factors that had boosted inflation since the middle of the previous year, such as strong wage growth and supply constraints on prices, were expected to persist for longer than previously thought. These indicators indicated the persistence of inflationary pressures in the economy.\n",
      "{'source': 'Minutes/fomcminutes20221102.pdf', 'page': 0, 'year': 2022, 'month': 11, 'day': 2}\n",
      "{'source': 'Minutes/fomcminutes20221102.pdf', 'page': 2, 'year': 2022, 'month': 11, 'day': 2}\n",
      "{'source': 'Minutes/fomcminutes20221102.pdf', 'page': 5, 'year': 2022, 'month': 11, 'day': 2}\n",
      "{'source': 'Minutes/fomcminutes20221102.pdf', 'page': 9, 'year': 2022, 'month': 11, 'day': 2}\n",
      "{'source': 'Minutes/fomcminutes20221102.pdf', 'page': 8, 'year': 2022, 'month': 11, 'day': 2}\n"
     ]
    }
   ],
   "source": [
    "results = fed_chain({\"input_documents\": filtered_context, \"question\": query})\n",
    "print(results['output_text'])\n",
    "for doc in results['input_documents']:\n",
    "    print(doc.metadata)"
   ],
   "metadata": {
    "collapsed": false,
    "ExecuteTime": {
     "start_time": "2023-06-28T12:29:10.645240Z",
     "end_time": "2023-06-28T12:29:28.677720Z"
    }
   }
  },
  {
   "cell_type": "markdown",
   "source": [
    "We can see that all the documents report to November 2022. Let's see what happens when we do not perform any filter to the retrieved documents for the original search."
   ],
   "metadata": {
    "collapsed": false
   }
  },
  {
   "cell_type": "code",
   "execution_count": 13,
   "outputs": [
    {
     "data": {
      "text/plain": "Batches:   0%|          | 0/1 [00:00<?, ?it/s]",
      "application/vnd.jupyter.widget-view+json": {
       "version_major": 2,
       "version_minor": 0,
       "model_id": "5b45e1ecb9c54f93ab8355c857f6ccb3"
      }
     },
     "metadata": {},
     "output_type": "display_data"
    },
    {
     "name": "stdout",
     "output_type": "stream",
     "text": [
      "The given context does not provide information about the staff economic outlook during the FOMC meeting of November 2022.\n",
      "{'source': 'Minutes/fomcminutes20211215.pdf', 'page': 7, 'year': 2021, 'month': 12, 'day': 15}\n",
      "{'source': 'Minutes/fomcminutes20220921.pdf', 'page': 6, 'year': 2022, 'month': 9, 'day': 21}\n",
      "{'source': 'Minutes/fomcminutes20151216.pdf', 'page': 4, 'year': 2015, 'month': 12, 'day': 16}\n",
      "{'source': 'Minutes/fomcminutes20140618.pdf', 'page': 6, 'year': 2014, 'month': 6, 'day': 18}\n"
     ]
    }
   ],
   "source": [
    "simple_retrieval = vector_s.similarity_search(query, top_k=5)\n",
    "results_simple = fed_chain({\"input_documents\": simple_retrieval, \"question\":query})\n",
    "print(results_simple['output_text'])\n",
    "for doc in results_simple['input_documents']:\n",
    "    print(doc.metadata)"
   ],
   "metadata": {
    "collapsed": false,
    "ExecuteTime": {
     "start_time": "2023-06-28T12:31:01.652207Z",
     "end_time": "2023-06-28T12:31:04.518810Z"
    }
   }
  },
  {
   "cell_type": "markdown",
   "source": [
    "As expected, which we know it is true because the context is not correctly identified."
   ],
   "metadata": {
    "collapsed": false
   }
  },
  {
   "cell_type": "markdown",
   "source": [
    "### Adding a method for automatically creating the filter parameters\n",
    "Let's recap the methodology to filter for a given query (we already have a prompt) that contain time related information.\n",
    "1. Extract the date information in natural language from the query.\n",
    "2. Compose a dictionary with the parameters to perform the search.\n",
    "3. Expand the search until we get the desired number of top_k documents, **after filtering**.\n",
    "4. Feed it into the chain.\n",
    "\n",
    "We now need to automate steps 1 and 2. For that we will use a specific template."
   ],
   "metadata": {
    "collapsed": false
   }
  },
  {
   "cell_type": "code",
   "execution_count": 17,
   "outputs": [],
   "source": [
    "from langchain import LLMChain\n",
    "template_extract_date_filters = \"\"\"Extract the date elements from the following question in numeric format. If there is mention of both year and month, use the datatime string format %Y-%m. Example: 1)The meeting took place in October 2022 ->> 2022-10. Then put them in a dictionary like so:\n",
    "1) The meeting took place in October 2022 ->> (year: 2022, month: 10)\n",
    " 2) During 1 November 1968 ->> (year: 2022, month: 10, day:1). Use json format. You are allowed to use the keys 'year', 'month', 'day', and 'page'.\n",
    "\n",
    "{question}\n",
    "\"\"\"\n",
    "prompt = PromptTemplate.from_template(\n",
    "    template_extract_date_filters)\n",
    "\n",
    "date_extractor = LLMChain(prompt=prompt, llm=ChatOpenAI(temperature=0, model_name='gpt-3.5-turbo'))"
   ],
   "metadata": {
    "collapsed": false,
    "ExecuteTime": {
     "start_time": "2023-06-28T12:36:16.406334Z",
     "end_time": "2023-06-28T12:36:16.410223Z"
    }
   }
  },
  {
   "cell_type": "code",
   "execution_count": 19,
   "outputs": [
    {
     "name": "stderr",
     "output_type": "stream",
     "text": [
      "WARNING:langchain.chat_models.openai:Retrying langchain.chat_models.openai.ChatOpenAI.completion_with_retry.<locals>._completion_with_retry in 1.0 seconds as it raised ServiceUnavailableError: The server is overloaded or not ready yet..\n"
     ]
    },
    {
     "data": {
      "text/plain": "'{\\n  \"year\": 2022,\\n  \"month\": 11\\n}'"
     },
     "execution_count": 19,
     "metadata": {},
     "output_type": "execute_result"
    }
   ],
   "source": [
    "date = date_extractor.run('What was the staff economic outlook during the FOMC meeting of November 2022? Please include some of the political developments discussed in the meeting and why they were important to the economic outlook. Also include some figures to illustrate.')\n",
    "date"
   ],
   "metadata": {
    "collapsed": false,
    "ExecuteTime": {
     "start_time": "2023-06-28T12:36:28.883520Z",
     "end_time": "2023-06-28T12:37:03.223810Z"
    }
   }
  },
  {
   "cell_type": "markdown",
   "source": [
    "## Load into Json object\n"
   ],
   "metadata": {
    "collapsed": false
   }
  },
  {
   "cell_type": "code",
   "execution_count": 21,
   "outputs": [],
   "source": [
    "import json\n",
    "filter_date = json.loads(date)"
   ],
   "metadata": {
    "collapsed": false,
    "ExecuteTime": {
     "start_time": "2023-06-28T12:41:18.996767Z",
     "end_time": "2023-06-28T12:41:19.005599Z"
    }
   }
  },
  {
   "cell_type": "code",
   "execution_count": 22,
   "outputs": [
    {
     "data": {
      "text/plain": "dict_keys(['year', 'month'])"
     },
     "execution_count": 22,
     "metadata": {},
     "output_type": "execute_result"
    }
   ],
   "source": [
    "filter_date.keys()"
   ],
   "metadata": {
    "collapsed": false,
    "ExecuteTime": {
     "start_time": "2023-06-28T12:41:20.595805Z",
     "end_time": "2023-06-28T12:41:20.603359Z"
    }
   }
  },
  {
   "cell_type": "markdown",
   "source": [
    "We can now use the filter_date directly to search."
   ],
   "metadata": {
    "collapsed": false
   }
  },
  {
   "cell_type": "markdown",
   "source": [
    "## Putting it all together"
   ],
   "metadata": {
    "collapsed": false
   }
  },
  {
   "cell_type": "code",
   "execution_count": 37,
   "outputs": [
    {
     "name": "stdout",
     "output_type": "stream",
     "text": [
      "Extracting the date in numeric format..\n",
      "Date parameters retrieved: {'year': 2009, 'month': 4}\n",
      "Running the qa with filtered context..\n"
     ]
    },
    {
     "data": {
      "text/plain": "Batches:   0%|          | 0/1 [00:00<?, ?it/s]",
      "application/vnd.jupyter.widget-view+json": {
       "version_major": 2,
       "version_minor": 0,
       "model_id": "1f0ad04a5af543429eec279c7b8d5425"
      }
     },
     "metadata": {},
     "output_type": "display_data"
    },
    {
     "name": "stderr",
     "output_type": "stream",
     "text": [
      "INFO:filter methods:Context contains 0 documents\n",
      "INFO:filter methods:Expanding search with k=200\n"
     ]
    },
    {
     "data": {
      "text/plain": "Batches:   0%|          | 0/1 [00:00<?, ?it/s]",
      "application/vnd.jupyter.widget-view+json": {
       "version_major": 2,
       "version_minor": 0,
       "model_id": "beed443e3e124b348d9da9a22d726f09"
      }
     },
     "metadata": {},
     "output_type": "display_data"
    },
    {
     "name": "stderr",
     "output_type": "stream",
     "text": [
      "INFO:filter methods:Context contains 0 documents\n",
      "INFO:filter methods:Expanding search with k=500\n"
     ]
    },
    {
     "data": {
      "text/plain": "Batches:   0%|          | 0/1 [00:00<?, ?it/s]",
      "application/vnd.jupyter.widget-view+json": {
       "version_major": 2,
       "version_minor": 0,
       "model_id": "f7476db7b5de4b7483ec57a8d22aa69b"
      }
     },
     "metadata": {},
     "output_type": "display_data"
    },
    {
     "name": "stderr",
     "output_type": "stream",
     "text": [
      "INFO:filter methods:Context contains 0 documents\n",
      "INFO:filter methods:Expanding search with k=800\n"
     ]
    },
    {
     "data": {
      "text/plain": "Batches:   0%|          | 0/1 [00:00<?, ?it/s]",
      "application/vnd.jupyter.widget-view+json": {
       "version_major": 2,
       "version_minor": 0,
       "model_id": "c3f3f456ba224a24a75cfa2f971da3f2"
      }
     },
     "metadata": {},
     "output_type": "display_data"
    },
    {
     "name": "stderr",
     "output_type": "stream",
     "text": [
      "INFO:filter methods:Context contains 1 documents\n",
      "INFO:filter methods:Expanding search with k=1100\n"
     ]
    },
    {
     "data": {
      "text/plain": "Batches:   0%|          | 0/1 [00:00<?, ?it/s]",
      "application/vnd.jupyter.widget-view+json": {
       "version_major": 2,
       "version_minor": 0,
       "model_id": "92c3866dcfc543b68a5a05d7d8f9d8d5"
      }
     },
     "metadata": {},
     "output_type": "display_data"
    },
    {
     "name": "stderr",
     "output_type": "stream",
     "text": [
      "INFO:filter methods:Context contains 1 documents\n",
      "INFO:filter methods:Expanding search with k=1400\n"
     ]
    },
    {
     "data": {
      "text/plain": "Batches:   0%|          | 0/1 [00:00<?, ?it/s]",
      "application/vnd.jupyter.widget-view+json": {
       "version_major": 2,
       "version_minor": 0,
       "model_id": "b524906070054cec8d22f7ba65b2a8fd"
      }
     },
     "metadata": {},
     "output_type": "display_data"
    },
    {
     "name": "stderr",
     "output_type": "stream",
     "text": [
      "INFO:filter methods:Context contains 1 documents\n",
      "INFO:filter methods:Expanding search with k=1700\n"
     ]
    },
    {
     "data": {
      "text/plain": "Batches:   0%|          | 0/1 [00:00<?, ?it/s]",
      "application/vnd.jupyter.widget-view+json": {
       "version_major": 2,
       "version_minor": 0,
       "model_id": "29e2be04a41743f19684fe78ae79b3f7"
      }
     },
     "metadata": {},
     "output_type": "display_data"
    },
    {
     "name": "stderr",
     "output_type": "stream",
     "text": [
      "INFO:filter methods:Context contains 1 documents\n",
      "INFO:filter methods:Expanding search with k=2000\n"
     ]
    },
    {
     "data": {
      "text/plain": "Batches:   0%|          | 0/1 [00:00<?, ?it/s]",
      "application/vnd.jupyter.widget-view+json": {
       "version_major": 2,
       "version_minor": 0,
       "model_id": "46921c0c44a04c4fbf4f9c68f241ca7b"
      }
     },
     "metadata": {},
     "output_type": "display_data"
    },
    {
     "name": "stderr",
     "output_type": "stream",
     "text": [
      "INFO:filter methods:Context contains 2 documents\n",
      "INFO:filter methods:Expanding search with k=2300\n"
     ]
    },
    {
     "data": {
      "text/plain": "Batches:   0%|          | 0/1 [00:00<?, ?it/s]",
      "application/vnd.jupyter.widget-view+json": {
       "version_major": 2,
       "version_minor": 0,
       "model_id": "3f1259ad444741889708f206606142d1"
      }
     },
     "metadata": {},
     "output_type": "display_data"
    },
    {
     "name": "stderr",
     "output_type": "stream",
     "text": [
      "INFO:filter methods:Context contains 3 documents\n",
      "INFO:filter methods:Expanding search with k=2600\n"
     ]
    },
    {
     "data": {
      "text/plain": "Batches:   0%|          | 0/1 [00:00<?, ?it/s]",
      "application/vnd.jupyter.widget-view+json": {
       "version_major": 2,
       "version_minor": 0,
       "model_id": "95607430331e4692ade610c6697376df"
      }
     },
     "metadata": {},
     "output_type": "display_data"
    },
    {
     "name": "stderr",
     "output_type": "stream",
     "text": [
      "INFO:filter methods:Context contains 3 documents\n",
      "INFO:filter methods:Expanding search with k=2900\n"
     ]
    },
    {
     "data": {
      "text/plain": "Batches:   0%|          | 0/1 [00:00<?, ?it/s]",
      "application/vnd.jupyter.widget-view+json": {
       "version_major": 2,
       "version_minor": 0,
       "model_id": "272e79c1721e4b93a778687fcdbb7431"
      }
     },
     "metadata": {},
     "output_type": "display_data"
    },
    {
     "name": "stderr",
     "output_type": "stream",
     "text": [
      "INFO:filter methods:Context contains 3 documents\n",
      "INFO:filter methods:Expanding search with k=3200\n"
     ]
    },
    {
     "data": {
      "text/plain": "Batches:   0%|          | 0/1 [00:00<?, ?it/s]",
      "application/vnd.jupyter.widget-view+json": {
       "version_major": 2,
       "version_minor": 0,
       "model_id": "18eec5210f1e4edda2682e888a6481c5"
      }
     },
     "metadata": {},
     "output_type": "display_data"
    },
    {
     "name": "stderr",
     "output_type": "stream",
     "text": [
      "INFO:filter methods:Context contains 3 documents\n",
      "INFO:filter methods:Expanding search with k=3500\n"
     ]
    },
    {
     "data": {
      "text/plain": "Batches:   0%|          | 0/1 [00:00<?, ?it/s]",
      "application/vnd.jupyter.widget-view+json": {
       "version_major": 2,
       "version_minor": 0,
       "model_id": "c9adf11ba25d4eb3aec982a19c998076"
      }
     },
     "metadata": {},
     "output_type": "display_data"
    },
    {
     "name": "stderr",
     "output_type": "stream",
     "text": [
      "INFO:filter methods:Context contains 3 documents\n",
      "INFO:filter methods:Expanding search with k=3800\n"
     ]
    },
    {
     "data": {
      "text/plain": "Batches:   0%|          | 0/1 [00:00<?, ?it/s]",
      "application/vnd.jupyter.widget-view+json": {
       "version_major": 2,
       "version_minor": 0,
       "model_id": "3e058f1f0c7e46f2b6749caa2ffd35d3"
      }
     },
     "metadata": {},
     "output_type": "display_data"
    },
    {
     "name": "stderr",
     "output_type": "stream",
     "text": [
      "INFO:filter methods:Context contains 3 documents\n",
      "INFO:filter methods:Expanding search with k=4100\n"
     ]
    },
    {
     "data": {
      "text/plain": "Batches:   0%|          | 0/1 [00:00<?, ?it/s]",
      "application/vnd.jupyter.widget-view+json": {
       "version_major": 2,
       "version_minor": 0,
       "model_id": "02ffc8bd4b124952b8349806710038ec"
      }
     },
     "metadata": {},
     "output_type": "display_data"
    },
    {
     "name": "stderr",
     "output_type": "stream",
     "text": [
      "INFO:filter methods:Done. Context contains 5 Documents matching the filtering criteria\n"
     ]
    },
    {
     "name": "stdout",
     "output_type": "stream",
     "text": [
      "--------------------Metadata for the documents to be used--------------------\n",
      "{'source': 'Minutes/fomcminutes20090429.pdf', 'page': 5, 'year': 2009, 'month': 4, 'day': 29}\n",
      "{'source': 'Minutes/fomcminutes20090429.pdf', 'page': 5, 'year': 2009, 'month': 4, 'day': 29}\n",
      "{'source': 'Minutes/fomcminutes20090429.pdf', 'page': 12, 'year': 2009, 'month': 4, 'day': 29}\n",
      "{'source': 'Minutes/fomcminutes20090429.pdf', 'page': 10, 'year': 2009, 'month': 4, 'day': 29}\n",
      "{'source': 'Minutes/fomcminutes20090429.pdf', 'page': 12, 'year': 2009, 'month': 4, 'day': 29}\n",
      "Computing Final output..\n",
      "--------------------Final output--------------------\n",
      "According to the staff economic outlook presented in the April 2009 meeting, the labor market conditions were still contracting and the decline in industrial production was rapid. Despite stabilization in consumer purchases and the abating decline in the housing sector, the contraction in the labor market persisted into March and industrial production continued to fall rapidly. This suggests that the staff did not expect any immediate improvement in the labor market and industrial production, indicating a challenging economic situation in these areas.\n",
      "\n",
      "In terms of the financial situation, the staff noted that conditions in financial markets had improved more than expected. Private borrowing rates decreased, stock prices rose substantially, and some measures of financial stress eased. These positive developments in financial markets were likely driven by the additional measures taken by European countries to support their banking sectors. The staff's projections for economic activity in the second half of 2009 and in 2010 were revised up, with real GDP expected to edge higher and financial markets expected to continue their gradual recovery. This suggests that the staff had a more optimistic view of the financial situation compared to the labor market conditions and industrial production.\n",
      "\n",
      "Overall, the staff economic outlook in the April 2009 meeting indicated persistent contraction in the labor market and rapid decline in industrial production. However, there were some positive signs of stabilization in consumer purchases and the housing sector. In terms of the financial situation, conditions in financial markets had improved more than expected, driven by additional measures taken to support the banking sectors in European countries. This led to a more optimistic outlook for economic activity and the gradual recovery of financial markets.\n"
     ]
    }
   ],
   "source": [
    "query = \"What was the economic outlook from the staff presented in the meeting of April 2009 with respect to Labor market conditions and industrial production? Write three paragraphs about this topic. Then write three paragraphs about the staff view of the Financial Situation.\"\n",
    "\n",
    "print('Extracting the date in numeric format..')\n",
    "filter_date = json.loads(date_extractor.run(query))\n",
    "\n",
    "print(f'Date parameters retrieved: {filter_date}')\n",
    "print('Running the qa with filtered context..')\n",
    "filtered_context = search_with_filter(vector_s, query, init_k=200, step=300, filter_dict=filter_date)\n",
    "\n",
    "print(20*'-' + 'Metadata for the documents to be used' + 20*'-' )\n",
    "for doc in filtered_context:\n",
    "    print(doc.metadata)\n",
    "\n",
    "print('Computing Final output..' )\n",
    "answer = fed_chain({\"input_documents\": filtered_context, \"question\": query})\n",
    "print(20*'-' + 'Final output' + 20*'-' )\n",
    "print(answer['output_text'])"
   ],
   "metadata": {
    "collapsed": false,
    "ExecuteTime": {
     "start_time": "2023-06-28T15:02:32.633566Z",
     "end_time": "2023-06-28T15:02:58.563902Z"
    }
   }
  },
  {
   "cell_type": "code",
   "execution_count": null,
   "outputs": [],
   "source": [],
   "metadata": {
    "collapsed": false
   }
  }
 ],
 "metadata": {
  "kernelspec": {
   "display_name": "Python 3",
   "language": "python",
   "name": "python3"
  },
  "language_info": {
   "codemirror_mode": {
    "name": "ipython",
    "version": 2
   },
   "file_extension": ".py",
   "mimetype": "text/x-python",
   "name": "python",
   "nbconvert_exporter": "python",
   "pygments_lexer": "ipython2",
   "version": "2.7.6"
  }
 },
 "nbformat": 4,
 "nbformat_minor": 0
}
