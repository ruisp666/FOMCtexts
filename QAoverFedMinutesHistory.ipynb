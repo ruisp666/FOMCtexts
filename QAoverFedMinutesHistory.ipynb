{
 "cells": [
  {
   "cell_type": "markdown",
   "source": [
    "# Q&A  with the Fed Minutes\n",
    "### Load document store and embeddings\n"
   ],
   "metadata": {
    "collapsed": false
   }
  },
  {
   "cell_type": "code",
   "execution_count": 4,
   "outputs": [
    {
     "name": "stdout",
     "output_type": "stream",
     "text": [
      "[Document(page_content='8 / 18 / 70 - 44 nature of current policy. he thought the desk and the staff were to be commended for the manner in which they had adapted to the new type of directive, and he personally would be unhappy if the committee were to return to directives of the old type. mr. francis commented that it had been popular to criti cize stabilization actions and the performance of the economy over the past year. however, given the strong inflationary momentum gradually built up from 1964 through 1968, he believed that stabi lization actions had, on the whole, been applied satisfactorily and that the economy had performed as well as could reasonably have been expected. the rate of price increase had not been slowed much, if at all, mr. francis remarked. however, the rise had stopped accelerating, and all econometric models now indicated that a moderation of the upward price movement was likely this fall. cutbacks in real output had been much less than in other periods when inflationary pressures were reduced. unemployment had risen to 5 per cent of the labor force, but when spending was rising fast enough to keep the unemployment rate at about 4 per cent, strong upward pressure was exerted on prices and price expectations. in the period from 1962 through 1964 unemployment had averaged about 5 - 1 / 2 per cent of the labor force, and at the cyclical peak between the 1958 and 1960 recessions the unemploy ment rate had dropped no lower than 5 per cent.', metadata={'source': 'Minutes/fomcmod19700818.pdf', 'page': 43}), Document(page_content='2 / 6 / 68 - 68 theme of the meeting was the high degree of uncertainty associated with key variables that would ultimately shape the contours of the economy in 1968. those included such factors as the mix of fiscal and monetary policy, the stubbornly high savings rate, the uncertain trend of federal spending for defense and other purposes, the upward movement of prices, and the interaction of those and other variables on spending and investing decisions. despite such uncertainties, mr. hickman continued, the group forecast, prepared in early january, remained highly optimistic for the near term. the median forecasts of the production index and gross national product were considerably higher than last fall, with a strong upward thrust in the first half and a more moderate advance in the second half. for 1968 as a whole, industrial production was expected to average 165, a 4 - 1 / 2 per cent increase over 1967 ; and gnp was expected to amount to $ 845 billion, a 7 - 1 / 2 per cent advance, with an undesirably large portion of the gnp increase accounted for by rising prices. the quarterly increments of gnp expected during the year were $ 19 billion, $ 16 billion, $ 10 billion, and $ 13 billion, for the respective quarters. those estimates, incidentally, were not very different from those of the council of economic advisers. turning to monetary policy, mr. hickman expressed the view that in the current environment there was little reason for the committee to depart from the policy set forth in its last two', metadata={'source': 'Minutes/fomcmod19680206.pdf', 'page': 67}), Document(page_content=\"1 / 10 / 67 we have done best on the employment goal. indeed, there have been many shortages of skilled labor, and even of unskilled labor in a number of places. economic growth was high in 1966 but the high rate was not sustainable. after several years of relative price stability, 1966 was marked by upward price pressures, and as the year ended, further price increases appeared in prospect. a severe balance - of - payments problem has become even more acute. the combination of strong private demand and an additional stimulus from federal fiscal policy put heavy, indeed excessive, pressure on our resources of men and equipment. not only did the boom bring price increases at home, but it also contributed to a deterioration of our international trade surplus. monetary policy was left with too much of the burden of fighting inflation. money was tighter than it had been in decades. as the year - end approached, the hectic pace of busi ness and credit expansion subsided, interest rates declined from their peaks, and there was some relaxation in the severe credit pressures of the summer. how about 1967? some forecasters see a business slow down or recession in 1967. housing is in a slump, the capital boom is moderating, and consumers appear more hesitant. but the question is basically whether we are in a pause, or about to take a definite and cumulative turn downward. the growth in business spending for fixed investment and for inventories will doubtless be slower in 1967. on the other hand, we may expect a revival in residential construction. in any analysis of the economic outlook defense spending is a vital factor ; indeed it is now a major factor. although we will have to wait a week or so before we see the president's budget message it i, reasonable to assume that in the coming year there wil1 be a substantial increase in such expenditures over last year. with continued over - all investment demand and high government spending, a continued uptrend in consumer spending seems likely. it seems to us, on balance, that in 1967 as a whole an excessive expansion in demand is a greater danger than recession. in this connection, i note that the staff's analysis concentrated on the early part of the year. although food prices have declined recently, the consumer has seen a persistent rise in the prices of nonfood commodities and especially of services. labor cost per unit of output has been rising, and despite the relative stability of wholesale prices during the last couple of - 30 -\", metadata={'source': 'Minutes/fomchistmin19670110.pdf', 'page': 29}), Document(page_content=\"8 / 13 / 68 1966 was marked by wide gyrations in consumer spending, with consumption expenditures rising at a 9 per cent annual rate in the first quarter, dropping to a 3 per cent growth rate in the second quarter, rising 7 per cent in the third quarter, and then falling back to 4 per cent in the traumatic fourth quarter. growth in consumption was more stable, although slower, throughout 1967, but 1968 seemed to start off with a resumption of the see - saw pattern of 1966. an extraordinary surge in spending in the first quarter was followed by a sharp drop - off in the second. does the resurgence of sales in july mark a return to a full quarter of upswing? i hesitate to make a prediction for so volatile a series, but i do think that the odds are against it, at least to the extent that current flows of income influence spending decisions. we are likely to be in for a period of sharply reduced rates of gain in disposable income. here the july evidence does supply some support. the employment statistics for july reflect some further modest easing in labor market pressures. this shows up most clearly in the teenage group, where unemployment rates for both june and july were high and where in july large with drawals from the labor force were symptomatic of diminishing job opportunities. weakening in labor demand is also reflected in the very moderate employment growth in manufacturing in july, after allowing for the delay in model change - over in the auto industry, and for the last push in steel production before the settlement. the growth in jobs is beginning to lag significantly behind the growth in the labor force, and even with further withdrawals from the labor market and with possible reductions in the workweek, the unemployment rate should creep up over the months ahead. steel inventory liquidation for the next several months will be a major factor exerting a drag on employment, output, and incomes. in some previous post settlement periods - - most noticeable in 1965 - - developments in steel were swamped by other expansive forces in the economy. for example, the sharp acceleration in defense orders during the summer and fall of 1965 and the continued rise in business capital outlays far outweighed the contraction in steel output. that doesn't seem to be in prospect this year, however, barring a turn for the worse in peace negotiations or an outbreak of - 22 -\", metadata={'source': 'Minutes/fomcmod19680813.pdf', 'page': 21}), Document(page_content='3 / 5 / 68 - 108 for one reason, they had been pointing in different directions. in january, unemployment, retail sales, and housing starts improved ; industrial production, new orders, and personal income were less favorable. for another reason, some of the indicators reflected special circumstances. the decline in the unemployment rate re sulted from a drop in the labor force rather than from an increase in employment ; and personal income rose little compared with december because the earlier month contained large federal pay increases. at the same time, the broader view of 1968 seemed to mr. bopp to have clarified somewhat. it now looked as if the second half would be more vigorous than had been thought. one reason might be the behavior of inventories. although total consumer spending in the next few months would rise considerably simply because of strong increases in income, some adjustment might be necessary in the auto sector. as a result, total inventories might not rise as much as had originally been forecast, thus mitigating any problem of adjust ment in the second half. if that was so, one argument for an over strong first half and a less - strong second half might be less persuasive than before. more important, however, it now seemed almost certain that defense spending would be larger than budgeted. that new outlook for the latter part of the year considerably altered the environment in which monetary policy would be operating, mr. bopp observed. in recent months he had viewed with misgivings the substantial increase in money and credit at a time of rapidly', metadata={'source': 'Minutes/fomcmod19680305.pdf', 'page': 107})]\n"
     ]
    }
   ],
   "source": [
    "from langchain.vectorstores import FAISS\n",
    "from langchain.embeddings import HuggingFaceEmbeddings\n",
    "model_name = 'sentence-transformers/all-mpnet-base-v2'\n",
    "model_kwargs = {'device':'mps'}\n",
    "encode_kwargs = {'normalize_embeddings': False}\n",
    "embeddings = HuggingFaceEmbeddings(model_name=model_name, model_kwargs=model_kwargs, encode_kwargs=encode_kwargs)\n",
    "vector_s = FAISS.load_local(\"fed_minutes_vector_store\", embeddings)\n",
    "\n",
    "query = 'What happened with the economy in 1968?'\n",
    "docs_ans = vector_s.similarity_search(query, k=5)\n",
    "print(docs_ans)"
   ],
   "metadata": {
    "collapsed": false,
    "ExecuteTime": {
     "start_time": "2023-06-09T15:19:08.533662Z",
     "end_time": "2023-06-09T15:19:09.555404Z"
    }
   }
  },
  {
   "cell_type": "markdown",
   "source": [
    "### Add a generative model to compose the\n",
    "Load the env with the open AI key"
   ],
   "metadata": {
    "collapsed": false
   }
  },
  {
   "cell_type": "code",
   "execution_count": 13,
   "outputs": [],
   "source": [
    "from dotenv import load_dotenv, find_dotenv\n",
    "_ = load_dotenv(find_dotenv('.env.rtf')) # read local .env file"
   ],
   "metadata": {
    "collapsed": false,
    "ExecuteTime": {
     "start_time": "2023-06-09T15:27:33.987584Z",
     "end_time": "2023-06-09T15:27:33.991447Z"
    }
   }
  },
  {
   "cell_type": "code",
   "execution_count": 7,
   "outputs": [],
   "source": [
    "from langchain.llms import OpenAI\n",
    "from langchain.chains import RetrievalQA\n",
    "import langchain\n",
    "langchain.debug = True"
   ],
   "metadata": {
    "collapsed": false,
    "ExecuteTime": {
     "start_time": "2023-06-09T15:25:49.363498Z",
     "end_time": "2023-06-09T15:25:49.366688Z"
    }
   }
  },
  {
   "cell_type": "code",
   "execution_count": 14,
   "outputs": [],
   "source": [
    "ask_me_about_fed_stuff = RetrievalQA.from_chain_type(llm=OpenAI(model_name='curie'),\n",
    "                                chain_type=\"stuff\",\n",
    "                                retriever=vector_s.as_retriever(search_kwargs={\"k\": 5}),\n",
    "                                return_source_documents=True)"
   ],
   "metadata": {
    "collapsed": false,
    "ExecuteTime": {
     "start_time": "2023-06-09T15:27:36.703819Z",
     "end_time": "2023-06-09T15:27:36.722127Z"
    }
   }
  },
  {
   "cell_type": "code",
   "execution_count": 20,
   "outputs": [
    {
     "name": "stdout",
     "output_type": "stream",
     "text": [
      "\u001B[32;1m\u001B[1;3m[chain/start]\u001B[0m \u001B[1m[1:chain:RetrievalQA] Entering Chain run with input:\n",
      "\u001B[0m{\n",
      "  \"query\": \"When did Ben Bernanke start participating in the FOMC meetings?\"\n",
      "}\n",
      "\u001B[32;1m\u001B[1;3m[chain/start]\u001B[0m \u001B[1m[1:chain:RetrievalQA > 2:chain:StuffDocumentsChain] Entering Chain run with input:\n",
      "\u001B[0m[inputs]\n",
      "\u001B[32;1m\u001B[1;3m[chain/start]\u001B[0m \u001B[1m[1:chain:RetrievalQA > 2:chain:StuffDocumentsChain > 3:chain:LLMChain] Entering Chain run with input:\n",
      "\u001B[0m{\n",
      "  \"question\": \"When did Ben Bernanke start participating in the FOMC meetings?\",\n",
      "  \"context\": \"voting for this action : messrs. bernanke and dudley, ms. duke, messrs. evans, kohn, lacker, lockhart, tarullo, and warsh, and ms. yellen. voting against this action : none. it was agreed that the next meeting of the committee would be held on tuesday - wednesday, november 3 - 4, 2009. the meeting adjourned at 12 : 35 p. m. on sep - tember 23, 2009. notation votes by notation vote completed on august 28, 2009, the committee unanimously approved the designation of matthew m. luecke as the committee \\u2019 s chief freedom of information act officer, with authority to subdele - gate duties as appropriate. by notation vote completed on september 1, 2009, the committee unanimously appr oved the minutes of the fomc meeting held on august 11 - 12, 2009. _ _ _ _ _ _ _ _ _ _ _ _ _ _ _ _ _ _ _ _ _ _ _ _ _ _ _ _ _ brian f. madigan secretary minutes of the meeting of september 22 - 23, 2009 page 11\\n\\n6 / 19 / 73 thereupon the meeting recessed until 9 : 30 a. m. the following morning, tuesday, june 19, 1973. messrs. mitchell and sheehan, who had been absent on monday afternoon, were present. staff attendance was the same as on monday afternoon except that mr. williams of the san francisco reserve bank and miss stockwell, mrs. junz, and messrs. enzler, ettin, gramley, morisse, nicoll, peret, roxon, smith, taylor, wetzel, wyss, and zeisel of the board's staff were absent and the following persons were present : mr. o'connell, general counsel mr. reynolds, associate economist chairman burns noted that, as indicated in his memorandum dated june 18, 1973, and entitled \\\" election of secretary for the fomc, \\\" mr. holland had resigned as secretary of the committee on june 11, 1973, the day he had entered on duty as a member of the board of governors. to succeed mrs. holland as secretary, the chairman recommended that the committee elect mr. broida. by unanimous vote, arthur l. broida was elected secretary of the federal open market committee, effective immediately, to serve until the election of his suc cessor at the first meeting of the committee after february 28, 1974, with the under standing that in the event of the dis continuance of his official connection with the board of governors he would cease to have any official connection with the federal open market committee. - 44 -\\n\\n6 / 20 / 67 - 116 chairman martin then noted that a memorandum by mr. maisel, entitled \\\" time for fomc meetings, \\\" had been distributed to the committee on june 7, 1967. 1 / the chairman invited mr. maisel to comment. mr. maisel noted that the committee had been pressed for time today and in other recent meetings. his suggestion was that it explore the possibility of holding a longer meeting - - perhaps beginning on monday afternoon and continuing on tuesday morning - about once a quarter. the additional time available at such meetings would be devoted to more thorough discussion of staff projections, such as those presented today, and consideration of their implica tions for policy. if such meetings were held quarterly, the committee could afford to devote less time at the intervening meetings to current reporting of economic events. mr. wayne remarked that he and his staff had given a great deal of thought to mr. maisel's proposal and had concluded that it had much merit. he noted that from time to time certain significant information first became available to reserve bank people in the course of staff comments at committee meetings, and he would not want to lose the opportunities to obtain such information at meetings. in general, however, he would favor holding longer meetings periodically, 1 / a copy of this memorandum, which had originally been addressed to the board of governors on may 29, 1967, has been placed in the committee's files.\\n\\nes of securities in light of the evolving economic outlook and conditions in finan - cial markets. the federal reserve is moni - toring the size and composition of its bal - ance sheet and will make adjustments to its credit and liquidity programs as war - ranted. \\u201d voting for this action : messrs. bernanke and dudley, ms. duke, messrs. evans, kohn, lacker, lockhart, tarullo, and warsh, and ms. yellen. voting against this action : none. it was agreed that the next meeting of the committee would be held on tuesday - wednesday, august 11 - 12, 2009. the meeting adjourned at 12 : 40 p. m. on june 24, 2009. notation vote by notation vote completed on may 19, 2009, the committee unanimously appr oved the minutes of the fomc meeting held on april 28 - 29, 2009. conference call on june 3, 2009, the committee met by conference call in a joint session with the board of governors to re - view recent economic and financial developments, in - cluding changes in the federal reserve \\u2019 s balance sheet. in addition, by unanimous vote, brian sack was se - lected to serve as manager, system open market ac - count, on the understanding that his selection was sub - ject to being satisfactory to the federal reserve bank of new york. secretary \\u2019 s note : advice subsequently was received that the selection of mr. sack as manager was satisfactory to the board of di - rectors of the federal reserve bank of new york. _ _ _ _ _ _ _ _ _ _ _ _ _ _ _ _ _ _ _ _ _ _ _ _ _ _ _ _ _ brian f. madigan secretary page 12 _ federal open market committee\\n\\n3 / 1 / 50 - 21 it was the consensus of the presidents of the federal reserve banks that there should be no change in the existing understanding, and that this would not prevent, for example, a bank from providing a luncheon in connection with a discussion meeting to which a state chairman wishes to invite some of his key workers. it was tentatively agreed that the next meeting of the committee would be held during the week beginning june 12, 1950. thereupon the meeting adjourned. secretary. approved : vice chairman.\"\n",
      "}\n",
      "\u001B[32;1m\u001B[1;3m[llm/start]\u001B[0m \u001B[1m[1:chain:RetrievalQA > 2:chain:StuffDocumentsChain > 3:chain:LLMChain > 4:llm:OpenAI] Entering LLM run with input:\n",
      "\u001B[0m{\n",
      "  \"prompts\": [\n",
      "    \"Use the following pieces of context to answer the question at the end. If you don't know the answer, just say that you don't know, don't try to make up an answer.\\n\\nvoting for this action : messrs. bernanke and dudley, ms. duke, messrs. evans, kohn, lacker, lockhart, tarullo, and warsh, and ms. yellen. voting against this action : none. it was agreed that the next meeting of the committee would be held on tuesday - wednesday, november 3 - 4, 2009. the meeting adjourned at 12 : 35 p. m. on sep - tember 23, 2009. notation votes by notation vote completed on august 28, 2009, the committee unanimously approved the designation of matthew m. luecke as the committee \\u2019 s chief freedom of information act officer, with authority to subdele - gate duties as appropriate. by notation vote completed on september 1, 2009, the committee unanimously appr oved the minutes of the fomc meeting held on august 11 - 12, 2009. _ _ _ _ _ _ _ _ _ _ _ _ _ _ _ _ _ _ _ _ _ _ _ _ _ _ _ _ _ brian f. madigan secretary minutes of the meeting of september 22 - 23, 2009 page 11\\n\\n6 / 19 / 73 thereupon the meeting recessed until 9 : 30 a. m. the following morning, tuesday, june 19, 1973. messrs. mitchell and sheehan, who had been absent on monday afternoon, were present. staff attendance was the same as on monday afternoon except that mr. williams of the san francisco reserve bank and miss stockwell, mrs. junz, and messrs. enzler, ettin, gramley, morisse, nicoll, peret, roxon, smith, taylor, wetzel, wyss, and zeisel of the board's staff were absent and the following persons were present : mr. o'connell, general counsel mr. reynolds, associate economist chairman burns noted that, as indicated in his memorandum dated june 18, 1973, and entitled \\\" election of secretary for the fomc, \\\" mr. holland had resigned as secretary of the committee on june 11, 1973, the day he had entered on duty as a member of the board of governors. to succeed mrs. holland as secretary, the chairman recommended that the committee elect mr. broida. by unanimous vote, arthur l. broida was elected secretary of the federal open market committee, effective immediately, to serve until the election of his suc cessor at the first meeting of the committee after february 28, 1974, with the under standing that in the event of the dis continuance of his official connection with the board of governors he would cease to have any official connection with the federal open market committee. - 44 -\\n\\n6 / 20 / 67 - 116 chairman martin then noted that a memorandum by mr. maisel, entitled \\\" time for fomc meetings, \\\" had been distributed to the committee on june 7, 1967. 1 / the chairman invited mr. maisel to comment. mr. maisel noted that the committee had been pressed for time today and in other recent meetings. his suggestion was that it explore the possibility of holding a longer meeting - - perhaps beginning on monday afternoon and continuing on tuesday morning - about once a quarter. the additional time available at such meetings would be devoted to more thorough discussion of staff projections, such as those presented today, and consideration of their implica tions for policy. if such meetings were held quarterly, the committee could afford to devote less time at the intervening meetings to current reporting of economic events. mr. wayne remarked that he and his staff had given a great deal of thought to mr. maisel's proposal and had concluded that it had much merit. he noted that from time to time certain significant information first became available to reserve bank people in the course of staff comments at committee meetings, and he would not want to lose the opportunities to obtain such information at meetings. in general, however, he would favor holding longer meetings periodically, 1 / a copy of this memorandum, which had originally been addressed to the board of governors on may 29, 1967, has been placed in the committee's files.\\n\\nes of securities in light of the evolving economic outlook and conditions in finan - cial markets. the federal reserve is moni - toring the size and composition of its bal - ance sheet and will make adjustments to its credit and liquidity programs as war - ranted. \\u201d voting for this action : messrs. bernanke and dudley, ms. duke, messrs. evans, kohn, lacker, lockhart, tarullo, and warsh, and ms. yellen. voting against this action : none. it was agreed that the next meeting of the committee would be held on tuesday - wednesday, august 11 - 12, 2009. the meeting adjourned at 12 : 40 p. m. on june 24, 2009. notation vote by notation vote completed on may 19, 2009, the committee unanimously appr oved the minutes of the fomc meeting held on april 28 - 29, 2009. conference call on june 3, 2009, the committee met by conference call in a joint session with the board of governors to re - view recent economic and financial developments, in - cluding changes in the federal reserve \\u2019 s balance sheet. in addition, by unanimous vote, brian sack was se - lected to serve as manager, system open market ac - count, on the understanding that his selection was sub - ject to being satisfactory to the federal reserve bank of new york. secretary \\u2019 s note : advice subsequently was received that the selection of mr. sack as manager was satisfactory to the board of di - rectors of the federal reserve bank of new york. _ _ _ _ _ _ _ _ _ _ _ _ _ _ _ _ _ _ _ _ _ _ _ _ _ _ _ _ _ brian f. madigan secretary page 12 _ federal open market committee\\n\\n3 / 1 / 50 - 21 it was the consensus of the presidents of the federal reserve banks that there should be no change in the existing understanding, and that this would not prevent, for example, a bank from providing a luncheon in connection with a discussion meeting to which a state chairman wishes to invite some of his key workers. it was tentatively agreed that the next meeting of the committee would be held during the week beginning june 12, 1950. thereupon the meeting adjourned. secretary. approved : vice chairman.\\n\\nQuestion: When did Ben Bernanke start participating in the FOMC meetings?\\nHelpful Answer:\"\n",
      "  ]\n",
      "}\n",
      "\u001B[36;1m\u001B[1;3m[llm/end]\u001B[0m \u001B[1m[1:chain:RetrievalQA > 2:chain:StuffDocumentsChain > 3:chain:LLMChain > 4:llm:OpenAI] [1.46s] Exiting LLM run with output:\n",
      "\u001B[0m{\n",
      "  \"generations\": [\n",
      "    [\n",
      "      {\n",
      "        \"text\": \" Ben Bernanke started participating in the FOMC meetings in August 2005.\",\n",
      "        \"generation_info\": {\n",
      "          \"finish_reason\": \"stop\",\n",
      "          \"logprobs\": null\n",
      "        }\n",
      "      }\n",
      "    ]\n",
      "  ],\n",
      "  \"llm_output\": {\n",
      "    \"token_usage\": {\n",
      "      \"completion_tokens\": 15,\n",
      "      \"prompt_tokens\": 1451,\n",
      "      \"total_tokens\": 1466\n",
      "    },\n",
      "    \"model_name\": \"text-davinci-003\"\n",
      "  }\n",
      "}\n",
      "\u001B[36;1m\u001B[1;3m[chain/end]\u001B[0m \u001B[1m[1:chain:RetrievalQA > 2:chain:StuffDocumentsChain > 3:chain:LLMChain] [1.46s] Exiting Chain run with output:\n",
      "\u001B[0m{\n",
      "  \"text\": \" Ben Bernanke started participating in the FOMC meetings in August 2005.\"\n",
      "}\n",
      "\u001B[36;1m\u001B[1;3m[chain/end]\u001B[0m \u001B[1m[1:chain:RetrievalQA > 2:chain:StuffDocumentsChain] [1.46s] Exiting Chain run with output:\n",
      "\u001B[0m{\n",
      "  \"output_text\": \" Ben Bernanke started participating in the FOMC meetings in August 2005.\"\n",
      "}\n",
      "\u001B[36;1m\u001B[1;3m[chain/end]\u001B[0m \u001B[1m[1:chain:RetrievalQA] [1.69s] Exiting Chain run with output:\n",
      "\u001B[0m[outputs]\n",
      "{'query': 'When did Ben Bernanke start participating in the FOMC meetings?', 'result': ' Ben Bernanke started participating in the FOMC meetings in August 2005.', 'source_documents': [Document(page_content='voting for this action : messrs. bernanke and dudley, ms. duke, messrs. evans, kohn, lacker, lockhart, tarullo, and warsh, and ms. yellen. voting against this action : none. it was agreed that the next meeting of the committee would be held on tuesday - wednesday, november 3 - 4, 2009. the meeting adjourned at 12 : 35 p. m. on sep - tember 23, 2009. notation votes by notation vote completed on august 28, 2009, the committee unanimously approved the designation of matthew m. luecke as the committee ’ s chief freedom of information act officer, with authority to subdele - gate duties as appropriate. by notation vote completed on september 1, 2009, the committee unanimously appr oved the minutes of the fomc meeting held on august 11 - 12, 2009. _ _ _ _ _ _ _ _ _ _ _ _ _ _ _ _ _ _ _ _ _ _ _ _ _ _ _ _ _ brian f. madigan secretary minutes of the meeting of september 22 - 23, 2009 page 11', metadata={'source': 'Minutes/fomcminutes20090923.pdf', 'page': 10}), Document(page_content='6 / 19 / 73 thereupon the meeting recessed until 9 : 30 a. m. the following morning, tuesday, june 19, 1973. messrs. mitchell and sheehan, who had been absent on monday afternoon, were present. staff attendance was the same as on monday afternoon except that mr. williams of the san francisco reserve bank and miss stockwell, mrs. junz, and messrs. enzler, ettin, gramley, morisse, nicoll, peret, roxon, smith, taylor, wetzel, wyss, and zeisel of the board\\'s staff were absent and the following persons were present : mr. o\\'connell, general counsel mr. reynolds, associate economist chairman burns noted that, as indicated in his memorandum dated june 18, 1973, and entitled \" election of secretary for the fomc, \" mr. holland had resigned as secretary of the committee on june 11, 1973, the day he had entered on duty as a member of the board of governors. to succeed mrs. holland as secretary, the chairman recommended that the committee elect mr. broida. by unanimous vote, arthur l. broida was elected secretary of the federal open market committee, effective immediately, to serve until the election of his suc cessor at the first meeting of the committee after february 28, 1974, with the under standing that in the event of the dis continuance of his official connection with the board of governors he would cease to have any official connection with the federal open market committee. - 44 -', metadata={'source': 'Minutes/fomcmod19730619.pdf', 'page': 43}), Document(page_content='6 / 20 / 67 - 116 chairman martin then noted that a memorandum by mr. maisel, entitled \" time for fomc meetings, \" had been distributed to the committee on june 7, 1967. 1 / the chairman invited mr. maisel to comment. mr. maisel noted that the committee had been pressed for time today and in other recent meetings. his suggestion was that it explore the possibility of holding a longer meeting - - perhaps beginning on monday afternoon and continuing on tuesday morning - about once a quarter. the additional time available at such meetings would be devoted to more thorough discussion of staff projections, such as those presented today, and consideration of their implica tions for policy. if such meetings were held quarterly, the committee could afford to devote less time at the intervening meetings to current reporting of economic events. mr. wayne remarked that he and his staff had given a great deal of thought to mr. maisel\\'s proposal and had concluded that it had much merit. he noted that from time to time certain significant information first became available to reserve bank people in the course of staff comments at committee meetings, and he would not want to lose the opportunities to obtain such information at meetings. in general, however, he would favor holding longer meetings periodically, 1 / a copy of this memorandum, which had originally been addressed to the board of governors on may 29, 1967, has been placed in the committee\\'s files.', metadata={'source': 'Minutes/fomcmod19670620.pdf', 'page': 115}), Document(page_content='es of securities in light of the evolving economic outlook and conditions in finan - cial markets. the federal reserve is moni - toring the size and composition of its bal - ance sheet and will make adjustments to its credit and liquidity programs as war - ranted. ” voting for this action : messrs. bernanke and dudley, ms. duke, messrs. evans, kohn, lacker, lockhart, tarullo, and warsh, and ms. yellen. voting against this action : none. it was agreed that the next meeting of the committee would be held on tuesday - wednesday, august 11 - 12, 2009. the meeting adjourned at 12 : 40 p. m. on june 24, 2009. notation vote by notation vote completed on may 19, 2009, the committee unanimously appr oved the minutes of the fomc meeting held on april 28 - 29, 2009. conference call on june 3, 2009, the committee met by conference call in a joint session with the board of governors to re - view recent economic and financial developments, in - cluding changes in the federal reserve ’ s balance sheet. in addition, by unanimous vote, brian sack was se - lected to serve as manager, system open market ac - count, on the understanding that his selection was sub - ject to being satisfactory to the federal reserve bank of new york. secretary ’ s note : advice subsequently was received that the selection of mr. sack as manager was satisfactory to the board of di - rectors of the federal reserve bank of new york. _ _ _ _ _ _ _ _ _ _ _ _ _ _ _ _ _ _ _ _ _ _ _ _ _ _ _ _ _ brian f. madigan secretary page 12 _ federal open market committee', metadata={'source': 'Minutes/fomcminutes20090624.pdf', 'page': 11}), Document(page_content='3 / 1 / 50 - 21 it was the consensus of the presidents of the federal reserve banks that there should be no change in the existing understanding, and that this would not prevent, for example, a bank from providing a luncheon in connection with a discussion meeting to which a state chairman wishes to invite some of his key workers. it was tentatively agreed that the next meeting of the committee would be held during the week beginning june 12, 1950. thereupon the meeting adjourned. secretary. approved : vice chairman.', metadata={'source': 'Minutes/FOMChistmin19500301.pdf', 'page': 20})]}\n"
     ]
    }
   ],
   "source": [
    "result = ask_me_about_fed_stuff({'query':'When did Ben Bernanke start participating in the FOMC meetings?'})\n",
    "print(result)"
   ],
   "metadata": {
    "collapsed": false,
    "ExecuteTime": {
     "start_time": "2023-06-09T15:32:00.163562Z",
     "end_time": "2023-06-09T15:32:01.851102Z"
    }
   }
  },
  {
   "cell_type": "code",
   "execution_count": 21,
   "outputs": [
    {
     "data": {
      "text/plain": "' Ben Bernanke started participating in the FOMC meetings in August 2005.'"
     },
     "execution_count": 21,
     "metadata": {},
     "output_type": "execute_result"
    }
   ],
   "source": [
    "result['result']"
   ],
   "metadata": {
    "collapsed": false,
    "ExecuteTime": {
     "start_time": "2023-06-09T15:32:03.829232Z",
     "end_time": "2023-06-09T15:32:03.835014Z"
    }
   }
  },
  {
   "cell_type": "markdown",
   "source": [
    "Let's change the prompt"
   ],
   "metadata": {
    "collapsed": false
   }
  },
  {
   "cell_type": "code",
   "execution_count": 92,
   "outputs": [],
   "source": [
    "from langchain.prompts import PromptTemplate\n",
    "prompt_template = \"\"\"You are a research analyst at a federal reserve bank and you are trying to answer questions or provide colour on statements. Use the following pieces of context to answer the question at the end. Explain the rationale behind your answer.\n",
    "If you don't have all the elements to answer the query, say it explicitly.\n",
    "\n",
    "{context}\n",
    "\n",
    "Question: {question}\n",
    "\"\"\"\n",
    "PROMPT = PromptTemplate(\n",
    "    template=prompt_template, input_variables=[\"context\", \"question\"]\n",
    ")"
   ],
   "metadata": {
    "collapsed": false,
    "ExecuteTime": {
     "start_time": "2023-06-09T17:14:36.372429Z",
     "end_time": "2023-06-09T17:14:36.376798Z"
    }
   }
  },
  {
   "cell_type": "markdown",
   "source": [],
   "metadata": {
    "collapsed": false
   }
  },
  {
   "cell_type": "markdown",
   "source": [],
   "metadata": {
    "collapsed": false
   }
  },
  {
   "cell_type": "code",
   "execution_count": 93,
   "outputs": [],
   "source": [
    "from langchain.chat_models import ChatOpenAI\n",
    "ask_me_about_fed_stuff = RetrievalQA.from_chain_type(llm=ChatOpenAI(model_name='gpt-3.5-turbo'),\n",
    "                                                     chain_type=\"stuff\",\n",
    "                                                     retriever=vector_s.as_retriever(search_kwargs={\"k\": 7}),\n",
    "                                                     return_source_documents=True,\n",
    "                                                     chain_type_kwargs={'prompt': PROMPT})"
   ],
   "metadata": {
    "collapsed": false,
    "ExecuteTime": {
     "start_time": "2023-06-09T17:14:38.551499Z",
     "end_time": "2023-06-09T17:14:38.554551Z"
    }
   }
  },
  {
   "cell_type": "markdown",
   "source": [],
   "metadata": {
    "collapsed": false
   }
  },
  {
   "cell_type": "code",
   "execution_count": 97,
   "outputs": [
    {
     "name": "stdout",
     "output_type": "stream",
     "text": [
      "Based on the summary of economic projections from the FOMC meeting held on September 15-16, 2020, meeting participants expected to continue assessing realized and expected economic conditions relative to the committee's maximum-employment objective and its symmetric 2 percent inflation objective when determining the stance of monetary policy. They revised up their economic outlook due to the stronger-than-expected rebound in economic activity over recent months, but remained attentive to the effects of the COVID-19 pandemic and the measures taken to contain it. Almost all participants projected that real GDP would contract in 2020, but would grow faster than their estimates of its longer-run normal growth rate from 2021 to 2023. They projected that the unemployment rate would decline gradually during the forecast period, with a full economic recovery taking some time. Therefore, it can be inferred that the views on monetary policy during 2021 will likely be determined by the evolution of the economy relative to the committee's objectives and the effects of the ongoing pandemic on economic activity, inflation, and employment.\n"
     ]
    }
   ],
   "source": [
    "result = ask_me_about_fed_stuff({'query':'Views on monetary policy during March 26-27, 1984.'})\n",
    "print(result['result'])"
   ],
   "metadata": {
    "collapsed": false,
    "ExecuteTime": {
     "start_time": "2023-06-09T17:16:48.293683Z",
     "end_time": "2023-06-09T17:16:58.796489Z"
    }
   }
  },
  {
   "cell_type": "code",
   "execution_count": 99,
   "outputs": [
    {
     "data": {
      "text/plain": "'During the meeting held on March 26-27, 1984, it was agreed that the Federal Reserve Bank of New York would operate the system account. However, there was dissent from Messrs. Martin and Rice and Ms. Seger. It was emphasized that the authority for the selection of the manager and the special manager was vested in the open market committee. The meeting also discussed the uncertainties associated with the introduction of the system of more contemporaneous reserve requirements, and the possibility that depository institutions might desire to hold more excess reserves during the transition period. The next meeting of the committee was scheduled for March 27, 1984.'"
     },
     "execution_count": 99,
     "metadata": {},
     "output_type": "execute_result"
    }
   ],
   "source": [
    "result = ask_me_about_fed_stuff({'query':'Summarize the discussion around the selection of a reserve bank to operate the system account on March 26-27, 1984.'})\n",
    "result['result']"
   ],
   "metadata": {
    "collapsed": false,
    "ExecuteTime": {
     "start_time": "2023-06-09T17:51:24.359971Z",
     "end_time": "2023-06-09T17:51:32.358884Z"
    }
   }
  },
  {
   "cell_type": "code",
   "execution_count": 108,
   "outputs": [
    {
     "data": {
      "text/plain": "\"During the FOMC meeting of March 5, 1968, the high degree of uncertainty associated with key variables that would ultimately shape the contours of the economy in 1968 was discussed. These included such factors as the mix of fiscal and monetary policy, the stubbornly high savings rate, the uncertain trend of federal spending for defense and other purposes, the upward movement of prices, and the interaction of those and other variables on spending and investing decisions. Despite such uncertainties, the group forecast remained highly optimistic for the near term. The median forecasts of the production index and gross national product were considerably higher than last fall, with a strong upward thrust in the first half and a more moderate advance in the second half. For 1968 as a whole, industrial production was expected to average 165, a 4 - 1/2 per cent increase over 1967; and GNP was expected to amount to $845 billion, a 7 - 1/2 per cent advance, with an undesirably large portion of the GNP increase accounted for by rising prices. The quarterly increments of GNP expected during the year were $19 billion, $16 billion, $10 billion, and $13 billion, for the respective quarters.\\n\\nPolitical developments discussed in the meeting include President Johnson's weekend message, the decision to close the London gold market, and the decision to hold an international conference in Washington over the weekend. The gold losses and concern about the international financial system generated an atmosphere of market uncertainty, and expectations of an increase in the discount rate were widespread, with the market appearing to have pretty well discounted a full 1 point increase in that rate. With an actual discount rate increase of 1/2 point announced that evening, the markets breathed a sigh of relief.\""
     },
     "execution_count": 108,
     "metadata": {},
     "output_type": "execute_result"
    }
   ],
   "source": [
    "result = ask_me_about_fed_stuff({'query':'What was the economic outlook during the FOMC meeting of March 1968? Please include some of the political developments discussed in the meeting and why they were important to the economic outlook.'})\n",
    "result['result']"
   ],
   "metadata": {
    "collapsed": false,
    "ExecuteTime": {
     "start_time": "2023-06-12T21:46:23.521965Z",
     "end_time": "2023-06-12T21:46:52.431861Z"
    }
   }
  },
  {
   "cell_type": "code",
   "execution_count": 126,
   "outputs": [
    {
     "name": "stdout",
     "output_type": "stream",
     "text": [
      "19680402\n"
     ]
    }
   ],
   "source": [
    "import re\n",
    "pattern = re.compile(r'\\d{8}')\n",
    "dates =[pattern.findall(doc.metadata['source'])[0] for doc in result['source_documents']]\n",
    "print(dates[1])"
   ],
   "metadata": {
    "collapsed": false,
    "ExecuteTime": {
     "start_time": "2023-06-13T06:42:58.341452Z",
     "end_time": "2023-06-13T06:42:58.346719Z"
    }
   }
  },
  {
   "cell_type": "code",
   "execution_count": 135,
   "outputs": [
    {
     "name": "stdout",
     "output_type": "stream",
     "text": [
      "15031968\n"
     ]
    }
   ],
   "source": [
    "def get_date(date: str):\n",
    "    import pandas as pd\n",
    "    date = pd.to_datetime(date)\n",
    "    date = date.strftime(\"%d%m%Y\")\n",
    "    return date\n",
    "\n",
    "print(get_date('15 Mar 1968'))\n",
    "\n",
    "\n"
   ],
   "metadata": {
    "collapsed": false,
    "ExecuteTime": {
     "start_time": "2023-06-13T06:58:23.898092Z",
     "end_time": "2023-06-13T06:58:23.903438Z"
    }
   }
  },
  {
   "cell_type": "code",
   "execution_count": 136,
   "outputs": [],
   "source": [
    "query = 'hat was the economic outlook during the FOMC meeting of March 1968? Please include some of the political developments discussed in the meeting and why they were important to the economic outlook.?'\n",
    "docs_ans = vector_s.similarity_search(query, k=7)"
   ],
   "metadata": {
    "collapsed": false,
    "ExecuteTime": {
     "start_time": "2023-06-13T07:08:43.741119Z",
     "end_time": "2023-06-13T07:08:46.344024Z"
    }
   }
  },
  {
   "cell_type": "code",
   "execution_count": 144,
   "outputs": [
    {
     "data": {
      "text/plain": "['19680206',\n '19680402',\n '19680419',\n '19680402',\n '19680716',\n '19680819',\n '19671212']"
     },
     "execution_count": 144,
     "metadata": {},
     "output_type": "execute_result"
    }
   ],
   "source": [
    "docs_dates = [doc.metadata['source'][-12:-4] for doc in docs_ans]\n",
    "docs_dates\n",
    "\n"
   ],
   "metadata": {
    "collapsed": false,
    "ExecuteTime": {
     "start_time": "2023-06-13T07:15:18.466874Z",
     "end_time": "2023-06-13T07:15:18.470034Z"
    }
   }
  },
  {
   "cell_type": "code",
   "execution_count": null,
   "outputs": [],
   "source": [
    "from langchain.vectorstores import FAISS\n",
    "from langchain.embeddings import HuggingFaceEmbeddings\n",
    "model_name = 'sentence-transformers/all-mpnet-base-v2'\n",
    "model_kwargs = {'device':'mps'}\n",
    "encode_kwargs = {'normalize_embeddings': False}\n",
    "embeddings = HuggingFaceEmbeddings(model_name=model_name, model_kwargs=model_kwargs, encode_kwargs=encode_kwargs)\n",
    "vector_s = FAISS.load_local(\"fed_minutes_vector_store\", embeddings)\n",
    "\n",
    "query = 'What happened with the economy in 1968?'\n",
    "docs_ans = vector_s.similarity_search(query, k=5)\n",
    "print(docs_ans)"
   ],
   "metadata": {
    "collapsed": false
   }
  },
  {
   "cell_type": "markdown",
   "source": [
    "### Add a generative model to compose the\n",
    "Load the env with the open AI key"
   ],
   "metadata": {
    "collapsed": false
   }
  },
  {
   "cell_type": "code",
   "execution_count": null,
   "outputs": [],
   "source": [
    "from dotenv import load_dotenv, find_dotenv\n",
    "_ = load_dotenv(find_dotenv('.env.rtf')) # read local .env file"
   ],
   "metadata": {
    "collapsed": false
   }
  },
  {
   "cell_type": "code",
   "execution_count": null,
   "outputs": [],
   "source": [
    "from langchain.llms import OpenAI\n",
    "from langchain.chains import RetrievalQA\n",
    "import langchain\n",
    "langchain.debug = True"
   ],
   "metadata": {
    "collapsed": false
   }
  },
  {
   "cell_type": "code",
   "execution_count": null,
   "outputs": [],
   "source": [
    "ask_me_about_fed_stuff = RetrievalQA.from_chain_type(llm=OpenAI(model_name='curie'),\n",
    "                                chain_type=\"stuff\",\n",
    "                                retriever=vector_s.as_retriever(search_kwargs={\"k\": 5}),\n",
    "                                return_source_documents=True)"
   ],
   "metadata": {
    "collapsed": false
   }
  },
  {
   "cell_type": "code",
   "execution_count": null,
   "outputs": [],
   "source": [
    "result = ask_me_about_fed_stuff({'query':'When did Ben Bernanke start participating in the FOMC meetings?'})\n",
    "print(result)"
   ],
   "metadata": {
    "collapsed": false
   }
  },
  {
   "cell_type": "code",
   "execution_count": null,
   "outputs": [],
   "source": [
    "result['result']"
   ],
   "metadata": {
    "collapsed": false
   }
  },
  {
   "cell_type": "markdown",
   "source": [
    "Let's change the prompt"
   ],
   "metadata": {
    "collapsed": false
   }
  },
  {
   "cell_type": "code",
   "execution_count": null,
   "outputs": [],
   "source": [
    "from langchain.prompts import PromptTemplate\n",
    "prompt_template = \"\"\"You are a research analyst at a federal reserve bank and you are trying to answer questions or provide colour on statements. Use the following pieces of context to answer the question at the end. Explain the rationale behind your answer.\n",
    "If you don't have all the elements to answer the query, say it explicitly.\n",
    "\n",
    "{context}\n",
    "\n",
    "Question: {question}\n",
    "\"\"\"\n",
    "PROMPT = PromptTemplate(\n",
    "    template=prompt_template, input_variables=[\"context\", \"question\"]\n",
    ")"
   ],
   "metadata": {
    "collapsed": false
   }
  },
  {
   "cell_type": "markdown",
   "source": [],
   "metadata": {
    "collapsed": false
   }
  },
  {
   "cell_type": "markdown",
   "source": [],
   "metadata": {
    "collapsed": false
   }
  },
  {
   "cell_type": "code",
   "execution_count": null,
   "outputs": [],
   "source": [
    "from langchain.chat_models import ChatOpenAI\n",
    "ask_me_about_fed_stuff = RetrievalQA.from_chain_type(llm=ChatOpenAI(model_name='gpt-3.5-turbo'),\n",
    "                                                     chain_type=\"stuff\",\n",
    "                                                     retriever=vector_s.as_retriever(search_kwargs={\"k\": 7}),\n",
    "                                                     return_source_documents=True,\n",
    "                                                     chain_type_kwargs={'prompt': PROMPT})"
   ],
   "metadata": {
    "collapsed": false
   }
  },
  {
   "cell_type": "code",
   "execution_count": null,
   "outputs": [],
   "source": [
    "result = ask_me_about_fed_stuff({'query':'Views on monetary policy during March 26-27, 1984.'})\n",
    "print(result['result'])"
   ],
   "metadata": {
    "collapsed": false
   }
  },
  {
   "cell_type": "code",
   "execution_count": null,
   "outputs": [],
   "source": [
    "result = ask_me_about_fed_stuff({'query':'Summarize the discussion around the selection of a reserve bank to operate the system account on March 26-27, 1984.'})\n",
    "result['result']"
   ],
   "metadata": {
    "collapsed": false
   }
  },
  {
   "cell_type": "code",
   "execution_count": null,
   "outputs": [],
   "source": [
    "result = ask_me_about_fed_stuff({'query':'What was the economic outlook during the FOMC meeting of March 1968? Please include some of the political developments discussed in the meeting and why they were important to the economic outlook.'})\n",
    "result['result']"
   ],
   "metadata": {
    "collapsed": false
   }
  },
  {
   "cell_type": "code",
   "execution_count": null,
   "outputs": [],
   "source": [
    "import re\n",
    "pattern = re.compile(r'\\d{8}')\n",
    "dates =[pattern.findall(doc.metadata['source'])[0] for doc in result['source_documents']]\n",
    "print(dates[1])"
   ],
   "metadata": {
    "collapsed": false
   }
  },
  {
   "cell_type": "code",
   "execution_count": null,
   "outputs": [],
   "source": [
    "def get_date(date: str):\n",
    "    import pandas as pd\n",
    "    date = pd.to_datetime(date)\n",
    "    date = date.strftime(\"%d%m%Y\")\n",
    "    return date\n",
    "\n",
    "print(get_date('15 Mar 1968'))\n",
    "\n",
    "\n"
   ],
   "metadata": {
    "collapsed": false
   }
  },
  {
   "cell_type": "code",
   "execution_count": null,
   "outputs": [],
   "source": [
    "query = 'hat was the economic outlook during the FOMC meeting of March 1968? Please include some of the political developments discussed in the meeting and why they were important to the economic outlook.?'\n",
    "docs_ans = vector_s.similarity_search(query, k=7)"
   ],
   "metadata": {
    "collapsed": false
   }
  },
  {
   "cell_type": "code",
   "execution_count": null,
   "outputs": [],
   "source": [
    "docs_ans_meta = [doc.metadata['source'] for doc in docs_ans]\n",
    "doc_dates = pattern.findall(doc.metadata['source'])[0]\n"
   ],
   "metadata": {
    "collapsed": false
   }
  },
  {
   "cell_type": "markdown",
   "source": [
    "### Getting the relevant dates"
   ],
   "metadata": {
    "collapsed": false
   }
  },
  {
   "cell_type": "code",
   "execution_count": null,
   "outputs": [],
   "source": [
    "from langchain.tools import tool\n",
    "\n",
    "@tool\n",
    "def parse_date(date: str):\n",
    "    \"\"\"\n",
    "    Useful for when you need to search for the relevant date and parse it to\n",
    "    \"\"\"\n"
   ],
   "metadata": {
    "collapsed": false
   }
  },
  {
   "cell_type": "code",
   "execution_count": null,
   "outputs": [],
   "source": [
    "# Add a tool to filter the document store for those documents that contain the year information.\n",
    "# Split into multiple vector stores or add filtering\n",
    "# Add tools to search for different vector stores, one per year, and then combine them."
   ],
   "metadata": {
    "collapsed": false
   }
  },
  {
   "cell_type": "code",
   "execution_count": null,
   "outputs": [],
   "source": [
    "dir(vector_s.docstore)"
   ],
   "metadata": {
    "collapsed": false
   }
  },
  {
   "cell_type": "code",
   "execution_count": null,
   "outputs": [],
   "source": [
    "vector_s.docstore.search('during')"
   ],
   "metadata": {
    "collapsed": false
   }
  },
  {
   "cell_type": "code",
   "execution_count": null,
   "outputs": [],
   "source": [],
   "metadata": {
    "collapsed": false
   }
  },
  {
   "cell_type": "markdown",
   "source": [
    "### Getting the relevant dates"
   ],
   "metadata": {
    "collapsed": false
   }
  },
  {
   "cell_type": "code",
   "execution_count": 75,
   "outputs": [],
   "source": [
    "from langchain.tools import tool\n",
    "\n",
    "@tool\n",
    "def parse_date(date: str):\n",
    "    \"\"\"\n",
    "    Useful for when you need to search for the relevant date and parse it to\n",
    "    \"\"\"\n"
   ],
   "metadata": {
    "collapsed": false,
    "ExecuteTime": {
     "start_time": "2023-06-09T17:06:11.067268Z",
     "end_time": "2023-06-09T17:06:11.070145Z"
    }
   }
  },
  {
   "cell_type": "code",
   "execution_count": null,
   "outputs": [],
   "source": [
    "# Add a tool to filter the document store for those documents that contain the year information.\n",
    "# Split into multiple vector stores or add filtering\n",
    "# Add tools to search for different vector stores, one per year, and then combine them."
   ],
   "metadata": {
    "collapsed": false
   }
  },
  {
   "cell_type": "code",
   "execution_count": 101,
   "outputs": [
    {
     "data": {
      "text/plain": "['__abstractmethods__',\n '__class__',\n '__delattr__',\n '__dict__',\n '__dir__',\n '__doc__',\n '__eq__',\n '__format__',\n '__ge__',\n '__getattribute__',\n '__gt__',\n '__hash__',\n '__init__',\n '__init_subclass__',\n '__le__',\n '__lt__',\n '__module__',\n '__ne__',\n '__new__',\n '__reduce__',\n '__reduce_ex__',\n '__repr__',\n '__setattr__',\n '__sizeof__',\n '__slots__',\n '__str__',\n '__subclasshook__',\n '__weakref__',\n '_abc_impl',\n '_dict',\n 'add',\n 'search']"
     },
     "execution_count": 101,
     "metadata": {},
     "output_type": "execute_result"
    }
   ],
   "source": [
    "dir(vector_s.docstore)"
   ],
   "metadata": {
    "collapsed": false,
    "ExecuteTime": {
     "start_time": "2023-06-09T18:59:38.403659Z",
     "end_time": "2023-06-09T18:59:38.409674Z"
    }
   }
  },
  {
   "cell_type": "code",
   "execution_count": 103,
   "outputs": [
    {
     "data": {
      "text/plain": "'ID during not found.'"
     },
     "execution_count": 103,
     "metadata": {},
     "output_type": "execute_result"
    }
   ],
   "source": [
    "vector_s.docstore.search('during')"
   ],
   "metadata": {
    "collapsed": false,
    "ExecuteTime": {
     "start_time": "2023-06-09T19:00:00.182093Z",
     "end_time": "2023-06-09T19:00:00.187335Z"
    }
   }
  },
  {
   "cell_type": "code",
   "execution_count": null,
   "outputs": [],
   "source": [],
   "metadata": {
    "collapsed": false
   }
  }
 ],
 "metadata": {
  "kernelspec": {
   "display_name": "Python 3",
   "language": "python",
   "name": "python3"
  },
  "language_info": {
   "codemirror_mode": {
    "name": "ipython",
    "version": 2
   },
   "file_extension": ".py",
   "mimetype": "text/x-python",
   "name": "python",
   "nbconvert_exporter": "python",
   "pygments_lexer": "ipython2",
   "version": "2.7.6"
  }
 },
 "nbformat": 4,
 "nbformat_minor": 0
}
