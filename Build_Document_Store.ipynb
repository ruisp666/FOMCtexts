{
 "cells": [
  {
   "cell_type": "markdown",
   "source": [
    "### Fed Minutes with Langchain and HuggingFace"
   ],
   "metadata": {
    "collapsed": false
   }
  },
  {
   "cell_type": "markdown",
   "source": [
    "We load the FED minutes in pdf into a document store with langchain."
   ],
   "metadata": {
    "collapsed": false
   }
  },
  {
   "cell_type": "code",
   "execution_count": 2,
   "outputs": [],
   "source": [
    "from langchain.document_loaders import PyPDFDirectoryLoader\n",
    "loader = PyPDFDirectoryLoader(\"Minutes/\")\n",
    "data = loader.load()"
   ],
   "metadata": {
    "collapsed": false,
    "ExecuteTime": {
     "start_time": "2023-06-09T14:19:33.346278Z",
     "end_time": "2023-06-09T14:24:57.615797Z"
    }
   }
  },
  {
   "cell_type": "code",
   "execution_count": 3,
   "outputs": [
    {
     "name": "stdout",
     "output_type": "stream",
     "text": [
      "There are 29939 documents\n"
     ]
    }
   ],
   "source": [
    "print(f'There are {len(data)} documents')"
   ],
   "metadata": {
    "collapsed": false,
    "ExecuteTime": {
     "start_time": "2023-06-09T14:24:57.616474Z",
     "end_time": "2023-06-09T14:24:57.618447Z"
    }
   }
  },
  {
   "cell_type": "markdown",
   "source": [
    "### Save and re-load the documents"
   ],
   "metadata": {
    "collapsed": false
   }
  },
  {
   "cell_type": "code",
   "execution_count": 2,
   "outputs": [],
   "source": [
    "import pickle"
   ],
   "metadata": {
    "collapsed": false,
    "ExecuteTime": {
     "start_time": "2023-06-09T14:45:57.919445Z",
     "end_time": "2023-06-09T14:45:57.923609Z"
    }
   }
  },
  {
   "cell_type": "code",
   "execution_count": 22,
   "outputs": [],
   "source": [
    "with open('minutes_individual_docs.pkl', 'wb') as f:\n",
    "    pickle.dump(data, f)"
   ],
   "metadata": {
    "collapsed": false,
    "ExecuteTime": {
     "start_time": "2023-06-09T14:44:24.568158Z",
     "end_time": "2023-06-09T14:44:24.738910Z"
    }
   }
  },
  {
   "cell_type": "code",
   "execution_count": 3,
   "outputs": [],
   "source": [
    "with open('minutes_individual_docs.pkl', 'rb') as f:\n",
    "    data = pickle.load(f)"
   ],
   "metadata": {
    "collapsed": false,
    "ExecuteTime": {
     "start_time": "2023-06-09T14:46:03.408256Z",
     "end_time": "2023-06-09T14:46:04.247239Z"
    }
   }
  },
  {
   "cell_type": "markdown",
   "source": [
    "## Split the documents into smaller chunks\n",
    "We try two splitters, one character-wise and another with a sentence transformer."
   ],
   "metadata": {
    "collapsed": false
   }
  },
  {
   "cell_type": "code",
   "execution_count": 5,
   "outputs": [],
   "source": [
    "from langchain.text_splitter import RecursiveCharacterTextSplitter, SentenceTransformersTokenTextSplitter\n",
    "splitter_recursive = RecursiveCharacterTextSplitter(chunk_size=1000, chunk_overlap=20)\n",
    "spliiter_tokens = SentenceTransformersTokenTextSplitter(chunk_overlap=15, model_name='sentence-transformers/all-mpnet-base-v2')"
   ],
   "metadata": {
    "collapsed": false,
    "ExecuteTime": {
     "start_time": "2023-06-09T14:46:07.842228Z",
     "end_time": "2023-06-09T14:46:08.269591Z"
    }
   }
  },
  {
   "cell_type": "code",
   "execution_count": 6,
   "outputs": [
    {
     "data": {
      "text/plain": "[Document(page_content='a meeting of the federal open market committee was held in the offices of the board of governors of the federal reserve system in washington on monday, november 10, 1958, at 10 : 00 a. m. present : mr. mr. mr. mr. mr. mr. mr. mr. mr. mr. mr. martin, chairman hayes, vice chairman balderston fulton irons leach mangels mills robertson shepardson szymczak messrs. erickson, allen, alternate members of market committee messrs. bopp, bryan, and the federal reserve atlanta, and kansasjohns, and deming, the federal open leedy, presidents of banks of philadelphia, city, respectively mr. riefler, secretary mr. thurston, assistant secretary mr. sherman, assistant secretary mr. hackley, general counsel mr. solomon, assistant general counsel mr. thomas, economist messrs. daane, walker, and young, associate economists mr. rouse, manager, system open market account mr. molony, special assistant to the board of governors mr. koch, associate adviser, division of research and statistics, board of governors mr. keir, acting chief, government finance section, division of research and statistics, board of governors messrs. roosa, abbott, and tow, vice presidents of the federal reserve banks of new york, st. louis, and kansas city, respectively', metadata={'source': 'Minutes/fomchistmin19581110.pdf', 'page': 0}),\n Document(page_content=\"11 / 10 / 58 - 2 messrs. balles, baughman, and einzig, assistant vice presidents of the federal reserve banks of cleveland, chicago, and san francisco, re spectively mr. gaines, manager, securities department, federal reserve bank of new york messrs. willis, anderson, and atkinson, economic advisers of the federal reserve banks of boston, philadelphia, and atlanta, respectively mr. parsons, director of research, federal reserve bank of minneapolis upon motion duly made and seconded, and by unanimous vote, the minutes of the meeting of the federal open market committee held on october 21, 1958, were approved. before this meeting there had been distributed to the members of the committee a report prepared at the federal reserve bank of new york covering open market operations during the period october 21 through november 3, 1958, and a supplemental report covering the period from november 3 through november 7, 1958. copies of both reports have been placed in the files of the federal open market committee. mr. rouse reported that the system open market account had been fairly active in purchasing treasury bills and writing repurchase agree ments during the past three weeks ; a net total of $ 492 million treasury bills was purchased, and $ 57 million repurchase agreements were put on the books. repurchase agreements were used rather extensively because of their usefulness in adapting to the large day - to - day swings in reserve figures. the committee's objectives were achieved through\", metadata={'source': 'Minutes/fomchistmin19581110.pdf', 'page': 1})]"
     },
     "execution_count": 6,
     "metadata": {},
     "output_type": "execute_result"
    }
   ],
   "source": [
    "spliiter_tokens.split_documents(data[:2])[:2]"
   ],
   "metadata": {
    "collapsed": false,
    "ExecuteTime": {
     "start_time": "2023-06-09T14:46:09.648220Z",
     "end_time": "2023-06-09T14:46:11.043025Z"
    }
   }
  },
  {
   "cell_type": "code",
   "execution_count": 6,
   "outputs": [
    {
     "data": {
      "text/plain": "[Document(page_content='A meeting of the Federal Open Market Committee was held in \\nthe offices of the Board of Governors of the Federal Reserve System \\nin Washington on Monday, November 10, 1958, at 10:00 a.m.\\nPRESENT: Mr.  \\nMr.  \\nMr.  \\nMr.  \\nMr.  \\nMr.  \\nMr.  \\nMr.  \\nMr.  \\nMr.  \\nMr.Martin, Chairman \\nHayes, Vice Chairman \\nBalderston \\nFulton \\nIrons \\nLeach \\nMangels \\nMills \\nRobertson \\nShepardson \\nSzymczak\\nMessrs. Erickson, Allen, \\nAlternate Members of \\nMarket Committee \\nMessrs. Bopp, Bryan, and \\nthe Federal Reserve \\nAtlanta, and KansasJohns, and Deming, \\nthe Federal Open \\nLeedy, Presidents of \\nBanks of Philadelphia, \\nCity, respectively\\nMr. Riefler, Secretary \\nMr. Thurston, Assistant Secretary \\nMr. Sherman, Assistant Secretary \\nMr. Hackley, General Counsel \\nMr. Solomon, Assistant General Counsel \\nMr. Thomas, Economist \\nMessrs. Daane, Walker, and Young, Associate \\nEconomists \\nMr. Rouse, Manager, System Open Market Account \\nMr. Molony, Special Assistant to the Board of \\nGovernors', metadata={'source': 'Minutes/fomchistmin19581110.pdf', 'page': 0}),\n Document(page_content='Governors \\nMr. Koch, Associate Adviser, Division of \\nResearch and Statistics, Board of Governors \\nMr. Keir, Acting Chief, Government Finance \\nSection, Division of Research and Statistics, \\nBoard of Governors \\nMessrs. Roosa, Abbott, and Tow, Vice Presidents \\nof the Federal Reserve Banks of New York, \\nSt. Louis, and Kansas City, respectively', metadata={'source': 'Minutes/fomchistmin19581110.pdf', 'page': 0})]"
     },
     "execution_count": 6,
     "metadata": {},
     "output_type": "execute_result"
    }
   ],
   "source": [
    "splitter_recursive.split_documents(data[:2])[:2]"
   ],
   "metadata": {
    "collapsed": false,
    "ExecuteTime": {
     "start_time": "2023-06-09T14:24:58.104415Z",
     "end_time": "2023-06-09T14:24:58.108957Z"
    }
   }
  },
  {
   "cell_type": "markdown",
   "source": [
    "Since we will use the same model to do embeddings, we will split the text with the same sentence transformer."
   ],
   "metadata": {
    "collapsed": false
   }
  },
  {
   "cell_type": "code",
   "execution_count": 18,
   "outputs": [
    {
     "data": {
      "text/plain": "34966"
     },
     "execution_count": 18,
     "metadata": {},
     "output_type": "execute_result"
    }
   ],
   "source": [
    "docs = spliiter_tokens.split_documents(data)\n",
    "len(docs)"
   ],
   "metadata": {
    "collapsed": false,
    "ExecuteTime": {
     "start_time": "2023-06-09T15:08:08.267973Z",
     "end_time": "2023-06-09T15:08:33.636085Z"
    }
   }
  },
  {
   "cell_type": "code",
   "execution_count": 8,
   "outputs": [],
   "source": [
    "docs_characters = splitter_recursive.split_documents(data)"
   ],
   "metadata": {
    "collapsed": false,
    "ExecuteTime": {
     "start_time": "2023-06-09T14:25:22.928477Z",
     "end_time": "2023-06-09T14:25:23.870463Z"
    }
   }
  },
  {
   "cell_type": "code",
   "execution_count": 9,
   "outputs": [
    {
     "data": {
      "text/plain": "71921"
     },
     "execution_count": 9,
     "metadata": {},
     "output_type": "execute_result"
    }
   ],
   "source": [
    "len(docs_characters)"
   ],
   "metadata": {
    "collapsed": false,
    "ExecuteTime": {
     "start_time": "2023-06-09T14:25:23.870859Z",
     "end_time": "2023-06-09T14:25:23.873298Z"
    }
   }
  },
  {
   "cell_type": "markdown",
   "source": [
    "### Embed the documents"
   ],
   "metadata": {
    "collapsed": false
   }
  },
  {
   "cell_type": "code",
   "execution_count": 8,
   "outputs": [],
   "source": [
    "from langchain.embeddings import HuggingFaceEmbeddings\n",
    "from langchain.vectorstores import FAISS\n",
    "model_name = 'sentence-transformers/all-mpnet-base-v2'\n",
    "model_kwargs = {'device':'mps'}\n",
    "encode_kwargs = {'normalize_embeddings': False}\n",
    "embeddings = HuggingFaceEmbeddings(model_name=model_name, model_kwargs=model_kwargs, encode_kwargs=encode_kwargs)\n",
    "vector_store = FAISS.from_documents(docs, embeddings)"
   ],
   "metadata": {
    "collapsed": false,
    "ExecuteTime": {
     "start_time": "2023-06-09T14:46:43.948384Z",
     "end_time": "2023-06-09T14:46:45.220761Z"
    }
   }
  },
  {
   "cell_type": "code",
   "execution_count": 13,
   "outputs": [],
   "source": [
    "vector_store.save_local(folder_path='fed_minutes_vector_store', index_name='index')"
   ],
   "metadata": {
    "collapsed": false,
    "ExecuteTime": {
     "start_time": "2023-06-09T15:04:04.896437Z",
     "end_time": "2023-06-09T15:04:05.106377Z"
    }
   }
  },
  {
   "cell_type": "markdown",
   "source": [
    "# Testing Semantic  Search\n",
    "We retrieve the top 5 answers."
   ],
   "metadata": {
    "collapsed": false
   }
  },
  {
   "cell_type": "code",
   "execution_count": 24,
   "outputs": [],
   "source": [
    "vector_s = FAISS.load_local(\"fed_minutes_vector_store\", embeddings)\n",
    "query = 'What happened with the economy in 1968?'\n",
    "docs_ans = vector_s.similarity_search(query, k=5)"
   ],
   "metadata": {
    "collapsed": false,
    "ExecuteTime": {
     "start_time": "2023-06-09T15:12:10.472710Z",
     "end_time": "2023-06-09T15:12:11.290991Z"
    }
   }
  },
  {
   "cell_type": "code",
   "execution_count": 25,
   "outputs": [
    {
     "data": {
      "text/plain": "[Document(page_content='8 / 18 / 70 - 44 nature of current policy. he thought the desk and the staff were to be commended for the manner in which they had adapted to the new type of directive, and he personally would be unhappy if the committee were to return to directives of the old type. mr. francis commented that it had been popular to criti cize stabilization actions and the performance of the economy over the past year. however, given the strong inflationary momentum gradually built up from 1964 through 1968, he believed that stabi lization actions had, on the whole, been applied satisfactorily and that the economy had performed as well as could reasonably have been expected. the rate of price increase had not been slowed much, if at all, mr. francis remarked. however, the rise had stopped accelerating, and all econometric models now indicated that a moderation of the upward price movement was likely this fall. cutbacks in real output had been much less than in other periods when inflationary pressures were reduced. unemployment had risen to 5 per cent of the labor force, but when spending was rising fast enough to keep the unemployment rate at about 4 per cent, strong upward pressure was exerted on prices and price expectations. in the period from 1962 through 1964 unemployment had averaged about 5 - 1 / 2 per cent of the labor force, and at the cyclical peak between the 1958 and 1960 recessions the unemploy ment rate had dropped no lower than 5 per cent.', metadata={'source': 'Minutes/fomcmod19700818.pdf', 'page': 43}),\n Document(page_content='2 / 6 / 68 - 68 theme of the meeting was the high degree of uncertainty associated with key variables that would ultimately shape the contours of the economy in 1968. those included such factors as the mix of fiscal and monetary policy, the stubbornly high savings rate, the uncertain trend of federal spending for defense and other purposes, the upward movement of prices, and the interaction of those and other variables on spending and investing decisions. despite such uncertainties, mr. hickman continued, the group forecast, prepared in early january, remained highly optimistic for the near term. the median forecasts of the production index and gross national product were considerably higher than last fall, with a strong upward thrust in the first half and a more moderate advance in the second half. for 1968 as a whole, industrial production was expected to average 165, a 4 - 1 / 2 per cent increase over 1967 ; and gnp was expected to amount to $ 845 billion, a 7 - 1 / 2 per cent advance, with an undesirably large portion of the gnp increase accounted for by rising prices. the quarterly increments of gnp expected during the year were $ 19 billion, $ 16 billion, $ 10 billion, and $ 13 billion, for the respective quarters. those estimates, incidentally, were not very different from those of the council of economic advisers. turning to monetary policy, mr. hickman expressed the view that in the current environment there was little reason for the committee to depart from the policy set forth in its last two', metadata={'source': 'Minutes/fomcmod19680206.pdf', 'page': 67}),\n Document(page_content=\"1 / 10 / 67 we have done best on the employment goal. indeed, there have been many shortages of skilled labor, and even of unskilled labor in a number of places. economic growth was high in 1966 but the high rate was not sustainable. after several years of relative price stability, 1966 was marked by upward price pressures, and as the year ended, further price increases appeared in prospect. a severe balance - of - payments problem has become even more acute. the combination of strong private demand and an additional stimulus from federal fiscal policy put heavy, indeed excessive, pressure on our resources of men and equipment. not only did the boom bring price increases at home, but it also contributed to a deterioration of our international trade surplus. monetary policy was left with too much of the burden of fighting inflation. money was tighter than it had been in decades. as the year - end approached, the hectic pace of busi ness and credit expansion subsided, interest rates declined from their peaks, and there was some relaxation in the severe credit pressures of the summer. how about 1967? some forecasters see a business slow down or recession in 1967. housing is in a slump, the capital boom is moderating, and consumers appear more hesitant. but the question is basically whether we are in a pause, or about to take a definite and cumulative turn downward. the growth in business spending for fixed investment and for inventories will doubtless be slower in 1967. on the other hand, we may expect a revival in residential construction. in any analysis of the economic outlook defense spending is a vital factor ; indeed it is now a major factor. although we will have to wait a week or so before we see the president's budget message it i, reasonable to assume that in the coming year there wil1 be a substantial increase in such expenditures over last year. with continued over - all investment demand and high government spending, a continued uptrend in consumer spending seems likely. it seems to us, on balance, that in 1967 as a whole an excessive expansion in demand is a greater danger than recession. in this connection, i note that the staff's analysis concentrated on the early part of the year. although food prices have declined recently, the consumer has seen a persistent rise in the prices of nonfood commodities and especially of services. labor cost per unit of output has been rising, and despite the relative stability of wholesale prices during the last couple of - 30 -\", metadata={'source': 'Minutes/fomchistmin19670110.pdf', 'page': 29}),\n Document(page_content=\"8 / 13 / 68 1966 was marked by wide gyrations in consumer spending, with consumption expenditures rising at a 9 per cent annual rate in the first quarter, dropping to a 3 per cent growth rate in the second quarter, rising 7 per cent in the third quarter, and then falling back to 4 per cent in the traumatic fourth quarter. growth in consumption was more stable, although slower, throughout 1967, but 1968 seemed to start off with a resumption of the see - saw pattern of 1966. an extraordinary surge in spending in the first quarter was followed by a sharp drop - off in the second. does the resurgence of sales in july mark a return to a full quarter of upswing? i hesitate to make a prediction for so volatile a series, but i do think that the odds are against it, at least to the extent that current flows of income influence spending decisions. we are likely to be in for a period of sharply reduced rates of gain in disposable income. here the july evidence does supply some support. the employment statistics for july reflect some further modest easing in labor market pressures. this shows up most clearly in the teenage group, where unemployment rates for both june and july were high and where in july large with drawals from the labor force were symptomatic of diminishing job opportunities. weakening in labor demand is also reflected in the very moderate employment growth in manufacturing in july, after allowing for the delay in model change - over in the auto industry, and for the last push in steel production before the settlement. the growth in jobs is beginning to lag significantly behind the growth in the labor force, and even with further withdrawals from the labor market and with possible reductions in the workweek, the unemployment rate should creep up over the months ahead. steel inventory liquidation for the next several months will be a major factor exerting a drag on employment, output, and incomes. in some previous post settlement periods - - most noticeable in 1965 - - developments in steel were swamped by other expansive forces in the economy. for example, the sharp acceleration in defense orders during the summer and fall of 1965 and the continued rise in business capital outlays far outweighed the contraction in steel output. that doesn't seem to be in prospect this year, however, barring a turn for the worse in peace negotiations or an outbreak of - 22 -\", metadata={'source': 'Minutes/fomcmod19680813.pdf', 'page': 21}),\n Document(page_content='3 / 5 / 68 - 108 for one reason, they had been pointing in different directions. in january, unemployment, retail sales, and housing starts improved ; industrial production, new orders, and personal income were less favorable. for another reason, some of the indicators reflected special circumstances. the decline in the unemployment rate re sulted from a drop in the labor force rather than from an increase in employment ; and personal income rose little compared with december because the earlier month contained large federal pay increases. at the same time, the broader view of 1968 seemed to mr. bopp to have clarified somewhat. it now looked as if the second half would be more vigorous than had been thought. one reason might be the behavior of inventories. although total consumer spending in the next few months would rise considerably simply because of strong increases in income, some adjustment might be necessary in the auto sector. as a result, total inventories might not rise as much as had originally been forecast, thus mitigating any problem of adjust ment in the second half. if that was so, one argument for an over strong first half and a less - strong second half might be less persuasive than before. more important, however, it now seemed almost certain that defense spending would be larger than budgeted. that new outlook for the latter part of the year considerably altered the environment in which monetary policy would be operating, mr. bopp observed. in recent months he had viewed with misgivings the substantial increase in money and credit at a time of rapidly', metadata={'source': 'Minutes/fomcmod19680305.pdf', 'page': 107})]"
     },
     "execution_count": 25,
     "metadata": {},
     "output_type": "execute_result"
    }
   ],
   "source": [
    "docs_ans"
   ],
   "metadata": {
    "collapsed": false,
    "ExecuteTime": {
     "start_time": "2023-06-09T15:12:11.934076Z",
     "end_time": "2023-06-09T15:12:11.937564Z"
    }
   }
  },
  {
   "cell_type": "markdown",
   "source": [
    "As we can see sentence transformers makes the documents relatively large. However, we can use another LLM to extract the relevant information from those documents and produce an answer that 'probabilistically' makes sense. We do that in the following notebook."
   ],
   "metadata": {
    "collapsed": false
   }
  },
  {
   "cell_type": "code",
   "execution_count": null,
   "outputs": [],
   "source": [],
   "metadata": {
    "collapsed": false
   }
  }
 ],
 "metadata": {
  "kernelspec": {
   "display_name": "Python 3",
   "language": "python",
   "name": "python3"
  },
  "language_info": {
   "codemirror_mode": {
    "name": "ipython",
    "version": 2
   },
   "file_extension": ".py",
   "mimetype": "text/x-python",
   "name": "python",
   "nbconvert_exporter": "python",
   "pygments_lexer": "ipython2",
   "version": "2.7.6"
  }
 },
 "nbformat": 4,
 "nbformat_minor": 0
}
